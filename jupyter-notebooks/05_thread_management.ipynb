{
 "cells": [
  {
   "cell_type": "markdown",
   "id": "a9bf10d0-e961-4191-8cc9-57445b7b7bb0",
   "metadata": {},
   "source": [
    "<p style=\"font-size: 30px; font-weight: bold;\">Thread Management</p>"
   ]
  },
  {
   "cell_type": "markdown",
   "id": "75714a65-9693-43ce-8631-2c0cdf64ac86",
   "metadata": {},
   "source": [
    "# Thread pools"
   ]
  },
  {
   "cell_type": "markdown",
   "id": "25288b12-6bc1-48da-9e97-ab2faf52712f",
   "metadata": {},
   "source": [
    "We do not need all the time a thread, we should use it only when it is necessary. It is impractial on most systems and could be expensive."
   ]
  },
  {
   "cell_type": "markdown",
   "id": "7e574c64-e06a-4b0c-930e-f88f5040c27f",
   "metadata": {},
   "source": [
    "<img src=\"img/thread_pool.png\" alt=\"Thread Pool\" width=\"50%\" style=\"\">"
   ]
  },
  {
   "cell_type": "markdown",
   "id": "6262d547-f584-4487-b25f-ba34b6a5e6b4",
   "metadata": {},
   "source": [
    "Depending on the task queue, a thread is called from the pool when it is needed.\n",
    "\n",
    "Why?\n",
    "* Because I could optimize the core of my CPU only to use when necessary\n",
    "* We need tendency more threads to hide the latency of communication\n",
    "* In order to work with recursive tasks we need that the threads could also create a tasks in case of need."
   ]
  },
  {
   "cell_type": "markdown",
   "id": "d4a111d2-76fa-458e-aa33-1e344d28f29e",
   "metadata": {},
   "source": [
    "```cpp\n",
    "std::atomic_bool done;\n",
    "thread_safe_queue<std::function<void()> > work_queue;\n",
    "std::vector<std::jthread> threads;\n",
    "\n",
    "void worker_thread() {\n",
    "    while(!done) {\n",
    "        std::function<void()> task;\n",
    "        if(work_queue.try_pop(task))\n",
    "            task();\n",
    "        else\n",
    "            std::this_thread::yield();\n",
    "    }\n",
    "}\n",
    "```"
   ]
  },
  {
   "cell_type": "markdown",
   "id": "150d10c3-6fd2-49a7-bda8-ac2a1f955f19",
   "metadata": {},
   "source": [
    "```cpp\n",
    "thread_pool(): done(false) {\n",
    "    auto thread_count = std::thread::hardware_concurrency();\n",
    "    try {\n",
    "        for(auto i=0; i<thread_count; ++i) {\n",
    "            threads.push_back(\n",
    "            std::jthread(&thread_pool::worker_thread, this));\n",
    "        }\n",
    "    }\n",
    "    catch(...) {\n",
    "        done=true;\n",
    "        throw;\n",
    "    }\n",
    "}\n",
    "\n",
    "~thread_pool() {\n",
    "    done = true;\n",
    "}\n",
    "\n",
    "template<typename FunctionType>\n",
    "void submit(FunctionType f) {\n",
    "    work_queue.push(std::function<void()>(f));\n",
    "}\n",
    "```"
   ]
  },
  {
   "cell_type": "markdown",
   "id": "760e10e9-a20c-47ed-97be-4f4b9832f374",
   "metadata": {},
   "source": [
    "## Order of destruction"
   ]
  },
  {
   "cell_type": "markdown",
   "id": "a981ccb0-1f9e-4086-9eea-49aa594cdb17",
   "metadata": {},
   "source": [
    "```cpp\n",
    "std::atomic_bool done;\n",
    "thread_safe_queue<std::function<void()> > work_queue;\n",
    "std::vector<std::jthread> threads;\n",
    "```"
   ]
  },
  {
   "cell_type": "markdown",
   "id": "475a9cfd-fdcc-4315-b057-b6b7a9cfa6a6",
   "metadata": {},
   "source": [
    "# Waiting for task submitted to a pool"
   ]
  },
  {
   "cell_type": "markdown",
   "id": "f26434cc-38de-440e-abba-6b323ad14d54",
   "metadata": {},
   "source": [
    "If the number of blocks is small, the overhead to use the threads could lead to a bad performance"
   ]
  },
  {
   "cell_type": "markdown",
   "id": "289f42fb-a6b0-4654-ac53-7a837dd34934",
   "metadata": {},
   "source": [
    "* How can a user wait for tasks to finish?\n",
    "* Waiting has to be implemented manually using standard techniques\n",
    "    * Condition variables\n",
    "    * Futures\n",
    "* Desirable to have submit() return a handle that wraps the use of condition variables or futures\n",
    "* Idea – enhance implementation of task pool using packaged tasks\n",
    "    * Problem: packaged tasks not copyable, prevents use of std::function\n",
    "    * Requires customized wrapper"
   ]
  },
  {
   "cell_type": "markdown",
   "id": "1989adc2-70d4-4cb9-a61a-62876dd3c432",
   "metadata": {},
   "source": [
    "## Use case - parallel accumulate"
   ]
  },
  {
   "cell_type": "markdown",
   "id": "3ec69ebd-23c6-491e-ad6e-06ddbbfd634e",
   "metadata": {},
   "source": [
    "* Parallel version of `std::accumulate`\n",
    "* Computes the sum of the given value init and the elements in the range `[first, last)`"
   ]
  },
  {
   "cell_type": "markdown",
   "id": "85e3cf26-8c90-48cc-afb8-773c17ef1e50",
   "metadata": {},
   "source": [
    "## Custom Function Wrapper"
   ]
  },
  {
   "cell_type": "markdown",
   "id": "d7d9456d-2452-48da-999f-4d9349f0f522",
   "metadata": {},
   "source": [
    "<img src=\"img/mgmt_wrapper.png\" alt=\"Function Wrapper for Thread Management\" width=\"80%\" style=\"margin: 0 auto;\">"
   ]
  },
  {
   "cell_type": "markdown",
   "id": "170be311-ae34-4fbd-8eda-c0abc054d874",
   "metadata": {},
   "source": [
    "<img src=\"img/mgmt_wrapper_2.png\" alt=\"Function Wrapper for Thread Management\" width=\"80%\" style=\"margin: 0 auto;\">"
   ]
  },
  {
   "cell_type": "markdown",
   "id": "187d21df-1952-4e15-808f-474554b162f9",
   "metadata": {},
   "source": [
    "<img src=\"img/mgmt_wrapper_3.png\" alt=\"Function Wrapper for Thread Management\" width=\"80%\" style=\"margin: 0 auto;\">"
   ]
  },
  {
   "cell_type": "markdown",
   "id": "a1fed008-165b-4926-9fee-8e31fb0b3339",
   "metadata": {},
   "source": [
    "<img src=\"img/mgmt_wrapper_4.png\" alt=\"Function Wrapper for Thread Management\" width=\"80%\" style=\"margin: 0 auto;\">"
   ]
  },
  {
   "cell_type": "markdown",
   "id": "d92bedd5-e686-4ef5-a157-5b2f1a0f0fbf",
   "metadata": {},
   "source": [
    "<img src=\"img/mgmt_wrapper_5.png\" alt=\"Function Wrapper for Thread Management\" width=\"80%\" style=\"margin: 0 auto;\">"
   ]
  },
  {
   "cell_type": "markdown",
   "id": "5360ac3f-090c-4348-8c93-efb74b1a4ba3",
   "metadata": {},
   "source": [
    "<img src=\"img/mgmt_wrapper_6.png\" alt=\"Function Wrapper for Thread Management\" width=\"80%\" style=\"margin: 0 auto;\">"
   ]
  },
  {
   "cell_type": "markdown",
   "id": "f8c7f4ad-f6aa-4ec5-a33d-c393b8db5a77",
   "metadata": {},
   "source": [
    "<img src=\"img/mgmt_wrapper_7.png\" alt=\"Function Wrapper for Thread Management\" width=\"80%\" style=\"margin: 0 auto;\">"
   ]
  }
 ],
 "metadata": {
  "kernelspec": {
   "display_name": "C++17",
   "language": "C++17",
   "name": "xcpp17"
  },
  "language_info": {
   "codemirror_mode": "text/x-c++src",
   "file_extension": ".cpp",
   "mimetype": "text/x-c++src",
   "name": "c++",
   "version": "17"
  },
  "toc-autonumbering": true
 },
 "nbformat": 4,
 "nbformat_minor": 5
}
