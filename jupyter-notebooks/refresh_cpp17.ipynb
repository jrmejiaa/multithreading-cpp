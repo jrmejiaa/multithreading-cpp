{
 "cells": [
  {
   "cell_type": "markdown",
   "id": "d66a41d7-7ca2-4f3a-9cea-37cf906f15df",
   "metadata": {
    "tags": []
   },
   "source": [
    "# Basics about C++"
   ]
  },
  {
   "cell_type": "markdown",
   "id": "3d86ac75-f256-49c5-ad23-3407c4594cdf",
   "metadata": {
    "tags": []
   },
   "source": [
    "## Include Libraries and hpp files"
   ]
  },
  {
   "cell_type": "markdown",
   "id": "78aeb737-8f80-4e4e-b035-e94b61913d17",
   "metadata": {},
   "source": [
    "`#include` Would be use to add the different libraries and headers that we want to need for the project. "
   ]
  },
  {
   "cell_type": "code",
   "execution_count": 1,
   "id": "0223c24f-d8ba-46c8-9769-0a51bb1fa74f",
   "metadata": {},
   "outputs": [
    {
     "name": "stdout",
     "output_type": "stream",
     "text": [
      "Hello World\n"
     ]
    }
   ],
   "source": [
    "#include <iostream>\n",
    "\n",
    "std::cout << \"Hello World\\n\";"
   ]
  },
  {
   "cell_type": "markdown",
   "id": "cbd4c18e-10b9-48d2-a005-a0c360fcb393",
   "metadata": {
    "tags": []
   },
   "source": [
    "## Variables"
   ]
  },
  {
   "cell_type": "markdown",
   "id": "3f7b5ef7-67f6-46a4-8e58-6c09897de490",
   "metadata": {},
   "source": [
    "* Memory can be seen as a long array of storage locations\n",
    "    * The bytes in the memory are enumerated\n",
    "    * The index can be seen as the address\n",
    "    * It can be used to access individual bytes\n",
    "* Variables are names for memory locations to store data\n",
    "    * Compiler translates variable names into memory addresses\n",
    "    \n",
    "### Global Variables\n",
    "\n",
    "* Variable is constructed at program start\n",
    "* Variable is deleted at program finalization\n",
    "* The variable can be accessed throughout the whole `program`\n",
    "\n",
    "## Local Variables\n",
    "\n",
    "* Local variables are defined in certain scope or code blocks\n",
    "  * Variable is constructed at the entry of scope\n",
    "  * Variable is deleted at the exit of scope"
   ]
  },
  {
   "cell_type": "code",
   "execution_count": 2,
   "id": "aab6b6bd-cf63-4648-989c-8d2e18a336be",
   "metadata": {},
   "outputs": [
    {
     "name": "stdout",
     "output_type": "stream",
     "text": [
      "The value of x is: 5\n",
      "There is no value x outside of the code block {}\n"
     ]
    }
   ],
   "source": [
    "{\n",
    "    int x = 5;\n",
    "    std::cout << \"The value of x is: \" << x << std::endl;\n",
    "}\n",
    "std::cout << \"There is no value x outside of the code block {}\\n\";"
   ]
  },
  {
   "cell_type": "markdown",
   "id": "5d7c12ea-77a3-45ae-a12d-34f8deeb9f77",
   "metadata": {
    "tags": []
   },
   "source": [
    "## Pointers"
   ]
  },
  {
   "cell_type": "markdown",
   "id": "ad075b44-e293-4d85-85c5-dc66cbd3d8da",
   "metadata": {},
   "source": [
    "Sometimes you do not want to just store some value, but point to another data object. E.g., if we want to create a double linked list:\n",
    "\n",
    "![LinkedListWithPointers](img/pointer.png)"
   ]
  },
  {
   "cell_type": "code",
   "execution_count": 3,
   "id": "6cd441d4-fb5f-4c2b-90f7-7f7b867432ee",
   "metadata": {},
   "outputs": [
    {
     "name": "stdout",
     "output_type": "stream",
     "text": [
      "The value of x is: 42\n",
      "The value of p is: 42\n"
     ]
    }
   ],
   "source": [
    "#include <cstdio>\n",
    "\n",
    "int x = 42;\n",
    "int* p = &x;\n",
    "\n",
    "printf(\"The value of x is: %d\\n\", x);\n",
    "printf(\"The value of p is: %d\\n\", *p);"
   ]
  },
  {
   "cell_type": "markdown",
   "id": "6c942188-b23c-485e-b25c-f3ebe5ebaae2",
   "metadata": {},
   "source": [
    "Pointers are variables that stores addresses to variables of a certain type"
   ]
  },
  {
   "cell_type": "code",
   "execution_count": 4,
   "id": "fb470ff4-4a0d-441b-83fb-24663cfe6c77",
   "metadata": {},
   "outputs": [
    {
     "name": "stdout",
     "output_type": "stream",
     "text": [
      "The value of p using malloc is: 42\n"
     ]
    }
   ],
   "source": [
    "int* p; // Creates a pointer\n",
    "\n",
    "// Creates a new int variable\n",
    "// and assigns its address to p\n",
    "// *p has still undefined value\n",
    "p = (int *) malloc( sizeof( int ) );\n",
    "\n",
    "// Assign a value to the memory to\n",
    "// to which p points\n",
    "*p = 42;\n",
    "printf(\"The value of p using malloc is: %d\\n\", *p);"
   ]
  },
  {
   "cell_type": "markdown",
   "id": "e3b5f620-a234-4ebd-9888-f12783fb28e7",
   "metadata": {
    "tags": []
   },
   "source": [
    "## References in C++"
   ]
  },
  {
   "cell_type": "markdown",
   "id": "a7596422-c075-4314-b47e-181e66fb630a",
   "metadata": {},
   "source": [
    "A reference is an alias for an already existing variable. Once a reference is initialized to a variable, it cannot be changed to refer to another variable. Hence, a reference is similar to a const pointer.\n",
    "\n",
    "Use references instead of pointers if possible:\n",
    "* Use references in function parameters and return types to define useful and self-documenting interfaces.\\\n",
    "* Use pointers to implement algorithms and data structures"
   ]
  },
  {
   "cell_type": "code",
   "execution_count": 5,
   "id": "20ee4fce-3185-486c-8b4d-644381fb981a",
   "metadata": {},
   "outputs": [
    {
     "name": "stdout",
     "output_type": "stream",
     "text": [
      "The pointer *p has the value: 10\n",
      "The reference &ref has the value: 10\n",
      "The pointer *p coud point to another address, now has the x address: 20\n",
      "If I assign ref another value, it would change the value of the original reference. ref is 20 and i is: 20\n"
     ]
    }
   ],
   "source": [
    "int i = 10, x = 20;\n",
    "int* p = &i;\n",
    "int &ref = i;\n",
    "\n",
    "printf (\"The pointer *p has the value: %d\\n\", *p);\n",
    "printf (\"The reference &ref has the value: %d\\n\", ref);\n",
    "p = &x;\n",
    "printf (\"The pointer *p coud point to another address, now has the x address: %d\\n\", *p);\n",
    "ref = x;\n",
    "printf (\"If I assign ref another value, it would change the value of the original reference. ref is %d and i is: %d\\n\", ref, i);"
   ]
  },
  {
   "cell_type": "markdown",
   "id": "be147e36-d420-4f03-8f03-2902303f5726",
   "metadata": {
    "tags": []
   },
   "source": [
    "## Pointer vs References"
   ]
  },
  {
   "cell_type": "markdown",
   "id": "3339b308-945a-4463-b528-e99cad3db1ad",
   "metadata": {},
   "source": [
    "|                                 Pointer                                 |                                              Reference                                             |\n",
    "|:-----------------------------------------------------------------------:|:--------------------------------------------------------------------------------------------------:|\n",
    "| A pointer can be initialized to any value anytime after it is declared. | A reference must be initialized when it is declared.                                               |\n",
    "| A pointer can be assigned to point to a NULL value.                     | References cannot be NULL.                                                                         |\n",
    "| Pointers need to be dereferenced with a *.                              | References can be used simply by name.                                                             |\n",
    "| A pointer can be changed to point to any variable of the same type.     | Once a reference is initialized to a variable, it cannot be changed to refer to a variable object. |"
   ]
  },
  {
   "cell_type": "markdown",
   "id": "8c96a575-ee76-40b6-bac0-ede6524e227b",
   "metadata": {
    "tags": []
   },
   "source": [
    "## Functions Overloading"
   ]
  },
  {
   "cell_type": "markdown",
   "id": "5f6584f8-1c5d-4e00-bce6-e60cd5b2575e",
   "metadata": {},
   "source": [
    "With function **overloading**, multiple functions can have the same name with different parameters:"
   ]
  },
  {
   "cell_type": "code",
   "execution_count": 6,
   "id": "c41a40a2-d083-4d45-9526-284b6ef4d554",
   "metadata": {},
   "outputs": [],
   "source": [
    "int plusFuncInt(int x, int y) {\n",
    "  return x + y;\n",
    "}"
   ]
  },
  {
   "cell_type": "code",
   "execution_count": 7,
   "id": "5fc34d0b-908e-4059-a77d-5089e4a23630",
   "metadata": {},
   "outputs": [],
   "source": [
    "double plusFuncDouble(double x, double y) {\n",
    "  return x + y;\n",
    "}"
   ]
  },
  {
   "cell_type": "code",
   "execution_count": 8,
   "id": "dd4d4f89-9570-4a1b-be58-20914b687182",
   "metadata": {},
   "outputs": [
    {
     "name": "stdout",
     "output_type": "stream",
     "text": [
      "Int: 13\n",
      "Double: 10.56"
     ]
    }
   ],
   "source": [
    "int myNum1 = plusFuncInt(8, 5);\n",
    "double myNum2 = plusFuncDouble(4.3, 6.26);\n",
    "std::cout << \"Int: \" << myNum1 << \"\\n\";\n",
    "std::cout << \"Double: \" << myNum2;"
   ]
  },
  {
   "cell_type": "markdown",
   "id": "33e4f541-fa75-465c-ade1-7b0f48b62d24",
   "metadata": {
    "tags": []
   },
   "source": [
    "## Class Construction"
   ]
  },
  {
   "cell_type": "markdown",
   "id": "4c43ffa9-30f6-40b7-ad39-0c577ca505a9",
   "metadata": {},
   "source": [
    "Constructor definition looks like a method\n",
    "\n",
    "*   With the same name as the class\n",
    "*   Has no return type\n",
    "*   Can have parameters"
   ]
  },
  {
   "cell_type": "code",
   "execution_count": 9,
   "id": "238209a5-9ae1-4939-a2ff-3e7cf4a97264",
   "metadata": {},
   "outputs": [],
   "source": [
    "class MyClass {            // The class\n",
    "  public:                  // Access specifier\n",
    "    int myNum;             // Attribute (int variable)\n",
    "    std::string myString;  // Attribute (string variable)\n",
    "};"
   ]
  },
  {
   "cell_type": "code",
   "execution_count": 10,
   "id": "bd80939a-a171-4ecb-9e87-2c625f987f5d",
   "metadata": {},
   "outputs": [
    {
     "name": "stdout",
     "output_type": "stream",
     "text": [
      "15\n",
      "String from the Object of the Class MyClass\n"
     ]
    }
   ],
   "source": [
    "MyClass myObj;  // Create an object of MyClass\n",
    "\n",
    "// Access attributes and set values\n",
    "myObj.myNum = 15; \n",
    "myObj.myString = \"String from the Object of the Class MyClass\";\n",
    "\n",
    "// Print attribute values\n",
    "std::cout << myObj.myNum << \"\\n\";\n",
    "std::cout << myObj.myString << \"\\n\";"
   ]
  },
  {
   "cell_type": "markdown",
   "id": "fe2d881d-bea2-4b47-b8b0-adbc458ec193",
   "metadata": {
    "tags": []
   },
   "source": [
    "### Access Specifier"
   ]
  },
  {
   "cell_type": "markdown",
   "id": "c910134d-404f-4e8c-a635-d1192a546efe",
   "metadata": {},
   "source": [
    "The `public` keyword is an **access specifier.** Access specifiers define how the members (attributes and methods) of a class can be accessed. In the example above, the members are `public` - which means that they can be accessed and modified from outside the code.\n",
    "\n",
    "However, what if we want members to be private and hidden from the outside world?\n",
    "\n",
    "In C++, there are three access specifiers:\n",
    "\n",
    "*   `public` - members are accessible from outside the class\n",
    "*   `private` - members cannot be accessed (or viewed) from outside the class\n",
    "*   `protected` - members cannot be accessed from outside the class, however, they can be accessed in inherited classes. You will learn more about [Inheritance](https://www.w3schools.com/cpp/cpp_inheritance.asp) later.\n",
    "\n",
    "In the following example, we demonstrate the differences between `public` and `private` members:"
   ]
  },
  {
   "cell_type": "code",
   "execution_count": 11,
   "id": "4762b373-dd83-437b-99d6-176ed6b5d1ad",
   "metadata": {},
   "outputs": [],
   "source": [
    "class MyClass {\n",
    "  public:    // Public access specifier\n",
    "    int x;   // Public attribute\n",
    "  private:   // Private access specifier\n",
    "    int y;   // Private attribute\n",
    "};"
   ]
  },
  {
   "cell_type": "code",
   "execution_count": 12,
   "id": "047d85d8-11c9-4516-b9cb-bc44730f2e74",
   "metadata": {},
   "outputs": [
    {
     "name": "stderr",
     "output_type": "stream",
     "text": [
      "\u001b[1minput_line_20:4:7: \u001b[0m\u001b[0;1;31merror: \u001b[0m\u001b[1m'y' is a private member of '__cling_N512::MyClass'\u001b[0m\n",
      "myObj.y = 50;  // Not allowed (private)\n",
      "\u001b[0;1;32m      ^\n",
      "\u001b[0m\u001b[1minput_line_19:5:9: \u001b[0m\u001b[0;1;30mnote: \u001b[0mdeclared private here\u001b[0m\n",
      "    int y;   // Private attribute\n",
      "\u001b[0;1;32m        ^\n",
      "\u001b[0m"
     ]
    },
    {
     "ename": "Interpreter Error",
     "evalue": "",
     "output_type": "error",
     "traceback": [
      "Interpreter Error: "
     ]
    }
   ],
   "source": [
    "MyClass myObj;\n",
    "myObj.x = 25;  // Allowed (public)\n",
    "myObj.y = 50;  // Not allowed (private)"
   ]
  },
  {
   "cell_type": "markdown",
   "id": "e80f286b-09dd-4100-81d2-d346fe091e15",
   "metadata": {
    "tags": []
   },
   "source": [
    "### Constructor Definition"
   ]
  },
  {
   "cell_type": "markdown",
   "id": "3bfdc158-0d35-4ee8-adae-547b2da02202",
   "metadata": {},
   "source": [
    "Constructor definition looks like a method\n",
    "\n",
    "*   With the same name as the class\n",
    "*   Has no return type\n",
    "*   Can have parameters"
   ]
  },
  {
   "cell_type": "code",
   "execution_count": 13,
   "id": "6255b13d-ad97-47b3-9771-a8937adf86ed",
   "metadata": {},
   "outputs": [],
   "source": [
    "class Car {        // The class\n",
    "  public:          // Access specifier\n",
    "    std::string brand;  // Attribute\n",
    "    std::string model;  // Attribute\n",
    "    int year;      // Attribute\n",
    "    Car(char const * x, char const * y, int z) { // Constructor with parameters\n",
    "      brand = x;\n",
    "      model = y;\n",
    "      year = z;\n",
    "    }\n",
    "};"
   ]
  },
  {
   "cell_type": "code",
   "execution_count": 14,
   "id": "14d72c76-d2a7-4bf1-93e7-0b5c38bfcc6b",
   "metadata": {},
   "outputs": [
    {
     "name": "stdout",
     "output_type": "stream",
     "text": [
      "BMW X5 1999\n",
      "Ford Mustang 1969\n"
     ]
    }
   ],
   "source": [
    "// Create Car objects and call the constructor with different values\n",
    "Car carObj1(\"BMW\", \"X5\", 1999);\n",
    "Car carObj2(\"Ford\", \"Mustang\", 1969);\n",
    "\n",
    "// Print values\n",
    "std::cout << carObj1.brand << \" \" << carObj1.model << \" \" << carObj1.year << \"\\n\";\n",
    "std::cout << carObj2.brand << \" \" << carObj2.model << \" \" << carObj2.year << \"\\n\";"
   ]
  },
  {
   "cell_type": "markdown",
   "id": "1b7f15dc-0dad-4aec-b5b9-bb84e0b8d20a",
   "metadata": {},
   "source": [
    "If no constructor is defined, the compiler generates some constructors:\n",
    "\n",
    "*   The default constructor:\n",
    "    *   Has no arguments\n",
    "    *   Equals an constructor with an empty body.\n",
    "    *   The copy constructor\n",
    "    *   Has a reference of an object of the same type as parameter\n",
    "    *   Initializes all members with the values of the copied object\n",
    "    *   Caution: Pointers copy only addresses, not the object. (shallow copy)\n",
    "\n",
    "If you define any constructor, the compiler generates no constructors"
   ]
  },
  {
   "cell_type": "markdown",
   "id": "e317ad4d-8260-4d94-8c8d-6fad14b72fdf",
   "metadata": {
    "tags": []
   },
   "source": [
    "### Custom Default Copy Constructor"
   ]
  },
  {
   "cell_type": "markdown",
   "id": "b4708ccd-f864-49e5-989d-9d47c2963dee",
   "metadata": {},
   "source": [
    "\n",
    "When we create a class and we want to copy the information of the class to a recent create one, we are going to make a **copy constructor** to the new class. However, if our class has dynamic memory, we are going to have **Shallow Copy.** This can be avoided creating a custom constructor for that case. The idea is to make a **deep copy** of the information and avoid the problems of Shallow Copy.\n",
    "\n",
    "<img src=\"img/shallow-copy.png\" alt=\"Shallow Copy\" width=\"300\">\n",
    "\n",
    "<img src=\"img/deep-copy.png\" alt=\"Shallow Copy\" width=\"600\">"
   ]
  },
  {
   "cell_type": "code",
   "execution_count": 15,
   "id": "74f7ddc3-51b1-4c2b-9dbd-6033169cc32f",
   "metadata": {},
   "outputs": [],
   "source": [
    "#include<iostream>\n",
    "#include<cstring>\n",
    "\n",
    "class String {\n",
    "private:\n",
    "\tchar *s;\n",
    "\tint size;\n",
    "public:\n",
    "\tString(const char *str = NULL); // constructor\n",
    "\t~String() { delete [] s; }// destructor\n",
    "    String(const String&); // copy constructor\n",
    "\tvoid print() { std::cout << s << std::endl; }\n",
    "\tvoid change(const char *); // Function to change\n",
    "};"
   ]
  },
  {
   "cell_type": "code",
   "execution_count": 16,
   "id": "4cb68e0a-77e4-485a-a2c3-ab29d3b5afc9",
   "metadata": {},
   "outputs": [],
   "source": [
    "String::String(const char *str) {\n",
    "    size = strlen(str);\n",
    "\ts = new char[size+1];\n",
    "\tstrcpy(s, str);\n",
    "}"
   ]
  },
  {
   "cell_type": "code",
   "execution_count": 17,
   "id": "9947cef8-a49b-45e8-88bd-3a93313fc0f1",
   "metadata": {},
   "outputs": [],
   "source": [
    "void String::change(const char *str) {\n",
    "\tdelete [] s;\n",
    "\tsize = strlen(str);\n",
    "\ts = new char[size+1];\n",
    "\tstrcpy(s, str);\n",
    "}"
   ]
  },
  {
   "cell_type": "code",
   "execution_count": 18,
   "id": "16e4cabc-040b-4c7e-9496-b53b27e61fc5",
   "metadata": {},
   "outputs": [],
   "source": [
    "String::String(const String& old_str) {\n",
    "    size = old_str.size;\n",
    "    s = new char[size+1];\n",
    "    strcpy(s, old_str.s);\n",
    "}"
   ]
  },
  {
   "cell_type": "code",
   "execution_count": 19,
   "id": "3fd0a8fb-3e6e-431a-9cc7-a45795526278",
   "metadata": {},
   "outputs": [
    {
     "name": "stdout",
     "output_type": "stream",
     "text": [
      "Jairo R. Mejia A.\n",
      "Jairo R. Mejia A.\n",
      "Jairo R. Mejia A.\n",
      "Jairo Mejia\n"
     ]
    }
   ],
   "source": [
    "// Test with the String class\n",
    "String str1(\"Jairo R. Mejia A.\");\n",
    "String str2 = str1;\n",
    "\n",
    "str1.print();\n",
    "str2.print();\n",
    "\n",
    "str2.change(\"Jairo Mejia\");\n",
    "\n",
    "str1.print(); // what is printed now ?\n",
    "str2.print();"
   ]
  },
  {
   "cell_type": "markdown",
   "id": "b652fe12-5790-4db5-ad41-99ba9ff22bea",
   "metadata": {
    "tags": []
   },
   "source": [
    "## Custom Operators"
   ]
  },
  {
   "cell_type": "markdown",
   "id": "11e88213-6c8b-4761-bc23-50d5acc63169",
   "metadata": {},
   "source": [
    "C++ allows to define operators for classes E.g., for our class string, we could define\n",
    "\n",
    "*   `+` to concatenate two strings\n",
    "*   `=` to copy a string\n",
    "*   `+=` to append a string\n",
    "\n",
    "By default, the C++ compiler generates a default assignment operator\n",
    "\n",
    "```C++\n",
    "<return_type> operator <symbol> ([parameter])\n",
    "```"
   ]
  },
  {
   "cell_type": "code",
   "execution_count": 20,
   "id": "fbcfc532-15a0-4fb9-abcf-9599826d8542",
   "metadata": {},
   "outputs": [],
   "source": [
    "class Box {\n",
    "public:\n",
    "    int length;\n",
    "    int height;\n",
    "    int* breadth;\n",
    "    \n",
    "    Box() {\n",
    "        this->length = 0;\n",
    "        this->height = 0;\n",
    "        this->breadth = new int;\n",
    "    }\n",
    "    // Copy Constructor\n",
    "    Box(const Box &copy) {\n",
    "        length = copy.length;\n",
    "        height = copy.height;\n",
    "        breadth = new int;\n",
    "        *breadth = *(copy.breadth);\n",
    "    }\n",
    "    // Custom Assigment operator\n",
    "    Box& operator=(const Box& copy) {\n",
    "        if (&copy != this) {\n",
    "            // Add one to make a difference between the Copy constructor\n",
    "            length = copy.length + 1;\n",
    "            height = copy.height + 1;\n",
    "            breadth = new int;\n",
    "            *breadth = *(copy.breadth) + 1;\n",
    "        }\n",
    "        return *this;\n",
    "    }\n",
    "}"
   ]
  },
  {
   "cell_type": "code",
   "execution_count": 21,
   "id": "727b0bb1-6c39-4e6f-9aad-7184e1285e9c",
   "metadata": {},
   "outputs": [
    {
     "name": "stdout",
     "output_type": "stream",
     "text": [
      "The Box variables are: Length 10, Height 5 and Breadth 9\n",
      "The box_cc_constructor variables are: Length 10, Height 5 and Breadth 9\n",
      "The box_assigment_op variables are: Length 11, Height 6 and Breadth 10\n"
     ]
    }
   ],
   "source": [
    "Box box = Box();\n",
    "box.length = 10;\n",
    "box.height = 5;\n",
    "*(box.breadth) = 9;\n",
    "\n",
    "printf(\"The Box variables are: Length %d, Height %d and Breadth %d\\n\", box.length, box.height, *(box.breadth));\n",
    "\n",
    "// The Copy constructor during the initialization of the class\n",
    "Box box_cc_constructor = box;\n",
    "printf(\"The box_cc_constructor variables are: Length %d, Height %d and Breadth %d\\n\", \n",
    "       box_cc_constructor.length, box_cc_constructor.height, *(box_cc_constructor.breadth));\n",
    "\n",
    "// The assigment Operator after the initialization of the Class\n",
    "Box box_assigment_op;\n",
    "box_assigment_op = box;\n",
    "printf(\"The box_assigment_op variables are: Length %d, Height %d and Breadth %d\\n\",\n",
    "       box_assigment_op.length, box_assigment_op.height, *(box_assigment_op.breadth));"
   ]
  },
  {
   "cell_type": "markdown",
   "id": "8cca7e38-065a-4b6f-be26-7406093e604c",
   "metadata": {},
   "source": [
    "## Templates"
   ]
  },
  {
   "cell_type": "markdown",
   "id": "f75a478c-bc61-4f40-809f-fe09e27bc6d3",
   "metadata": {},
   "source": [
    "A template is a simple and yet very powerful tool in C++. The simple idea is to pass data type as a parameter so that we don’t need to write the same code for different data types.\n",
    "\n",
    "Templates are expanded at compiler time. This is like macros. The difference is, the compiler does type checking before template expansion. The idea is simple, source code contains only function/class, but compiled code may contain multiple copies of same function/class. "
   ]
  },
  {
   "cell_type": "code",
   "execution_count": 22,
   "id": "42995728-9b8e-4dc0-952e-af70b792a35a",
   "metadata": {},
   "outputs": [],
   "source": [
    "template <typename T>\n",
    "T myMax(T x, T y) {\n",
    "  return (x > y)? x: y;\n",
    "}"
   ]
  },
  {
   "cell_type": "code",
   "execution_count": 23,
   "id": "1e267d20-bea9-45e7-8b06-6032f7d1aba7",
   "metadata": {},
   "outputs": [
    {
     "data": {
      "text/plain": [
       "7"
      ]
     },
     "execution_count": 23,
     "metadata": {},
     "output_type": "execute_result"
    }
   ],
   "source": [
    "int maxInt = myMax<int>(3, 7);\n",
    "maxInt"
   ]
  },
  {
   "cell_type": "code",
   "execution_count": 24,
   "id": "a9dcd4a7-4790-4a9f-a1ff-82d7810321bd",
   "metadata": {},
   "outputs": [
    {
     "data": {
      "text/plain": [
       "7.0000000"
      ]
     },
     "execution_count": 24,
     "metadata": {},
     "output_type": "execute_result"
    }
   ],
   "source": [
    "double maxDouble = myMax<double>(3.0, 7.0);\n",
    "maxDouble"
   ]
  },
  {
   "cell_type": "code",
   "execution_count": 25,
   "id": "76cfa09c-8f44-4dca-b255-aad720706d6c",
   "metadata": {},
   "outputs": [
    {
     "data": {
      "text/plain": [
       "'g'"
      ]
     },
     "execution_count": 25,
     "metadata": {},
     "output_type": "execute_result"
    }
   ],
   "source": [
    "char maxChar = myMax<char>('g', 'e');\n",
    "maxChar"
   ]
  },
  {
   "cell_type": "markdown",
   "id": "98b1fb2a-4858-4fc8-87cc-4708de69c28a",
   "metadata": {},
   "source": [
    "## Functors"
   ]
  },
  {
   "cell_type": "markdown",
   "id": "04af892b-8c54-4616-95ca-8abb43fb4d09",
   "metadata": {},
   "source": [
    "A functor is a `()-operator`. \n",
    "* Allows to use a variable name like a method call\n",
    "* Can have an arbitrary number of parameters"
   ]
  },
  {
   "cell_type": "code",
   "execution_count": 26,
   "id": "72055cd9-227f-478e-8238-ac35cdba4d8f",
   "metadata": {},
   "outputs": [],
   "source": [
    "class AccumulateFunctor {\n",
    " public:\n",
    "  void operator()(uint64_t start, uint64_t end) {\n",
    "    _sum = 0;\n",
    "    for (auto i = start; i < end; i++)\n",
    "      _sum += i;\n",
    "  }\n",
    "  uint64_t _sum;\n",
    "};"
   ]
  },
  {
   "cell_type": "code",
   "execution_count": 27,
   "id": "02286dc1-0313-47c6-b849-24221f768c98",
   "metadata": {},
   "outputs": [
    {
     "name": "stdout",
     "output_type": "stream",
     "text": [
      "total: 499500\n"
     ]
    }
   ],
   "source": [
    "#include <iostream>\n",
    "#include <thread>\n",
    "#include <vector>\n",
    "\n",
    "const int number_of_functors = 10;\n",
    "uint64_t number_of_elements = 1000;\n",
    "uint64_t step = number_of_elements / number_of_functors;\n",
    "std::vector<AccumulateFunctor *> v_functors;\n",
    "\n",
    "for (uint64_t i = 0; i < number_of_functors; i++) {\n",
    "    AccumulateFunctor *accumulateFunctor = new AccumulateFunctor();\n",
    "    (*accumulateFunctor)(i*step, (i+1) * step);\n",
    "    v_functors.emplace_back(accumulateFunctor);\n",
    "}\n",
    "\n",
    "uint64_t total = 0;\n",
    "for (auto functor : v_functors){\n",
    "    total += functor->_sum;\n",
    "}\n",
    "\n",
    "std::cout << \"total: \" << total << std::endl;"
   ]
  },
  {
   "cell_type": "markdown",
   "id": "7d024472-6189-4d35-a1d9-b65775750ac9",
   "metadata": {},
   "source": [
    "## Exceptions"
   ]
  },
  {
   "cell_type": "markdown",
   "id": "fc942844-8001-45ed-94d9-f74e3966ca28",
   "metadata": {},
   "source": [
    "Exceptions provide a mechanism to react on exceptional circumstances\n",
    " * E.g. runtime errors\n",
    "\n",
    "They are no means to return a value from a function\n",
    "* Extremely high overhead"
   ]
  },
  {
   "cell_type": "code",
   "execution_count": 28,
   "id": "6cde15fe-e11d-40de-a252-9e14642dc55e",
   "metadata": {},
   "outputs": [
    {
     "name": "stdout",
     "output_type": "stream",
     "text": [
      "The exception was thrown\n"
     ]
    }
   ],
   "source": [
    "try {\n",
    "    // Code under inspection\n",
    "    throw std::exception();\n",
    "}\n",
    "catch( std::exception& e ) {\n",
    "    // Reaction on exception e\n",
    "    printf(\"The exception was thrown\\n\");\n",
    "}"
   ]
  },
  {
   "cell_type": "markdown",
   "id": "6d29cdcb-a463-487a-abb0-71e8a48d6eea",
   "metadata": {
    "tags": []
   },
   "source": [
    "## Compilation of new important features of C++ 11/14/17"
   ]
  },
  {
   "cell_type": "markdown",
   "id": "66d30f52-c7ba-42bc-be46-74bd931f3496",
   "metadata": {},
   "source": [
    "### C++11: New keyword `nullptr`"
   ]
  },
  {
   "cell_type": "code",
   "execution_count": 29,
   "id": "a809b784-7838-4e0f-b8a3-d299fe882b73",
   "metadata": {},
   "outputs": [],
   "source": [
    "class StringTest {\n",
    "    char* data = nullptr;\n",
    "    int size = 0;\n",
    "};"
   ]
  },
  {
   "cell_type": "markdown",
   "id": "03847609-3ed9-4b65-9283-989dacf35ab2",
   "metadata": {},
   "source": [
    "### C++11: Style Loops"
   ]
  },
  {
   "cell_type": "markdown",
   "id": "e1f9d698-1012-4696-84d6-2c76f1a690e6",
   "metadata": {},
   "source": [
    "Extended for loop syntax:\n",
    "\n",
    "```Cpp\n",
    "for ( loop_variable : range_expression ) {\n",
    "    loop_statement\n",
    "}\n",
    "```"
   ]
  },
  {
   "cell_type": "code",
   "execution_count": 30,
   "id": "69f788a2-f6ee-45b4-bff7-11c8be0b9ab8",
   "metadata": {},
   "outputs": [
    {
     "name": "stdout",
     "output_type": "stream",
     "text": [
      "0 1 2 3 4 5 "
     ]
    }
   ],
   "source": [
    "for ( const int i : {0, 1, 2, 3, 4, 5} ) {\n",
    "    std::cout << i << \" \";\n",
    "}"
   ]
  },
  {
   "cell_type": "markdown",
   "id": "692601b2-8e26-4106-8f1e-b8775c5b3684",
   "metadata": {},
   "source": [
    "### C++11: `constexpr` specifier"
   ]
  },
  {
   "cell_type": "markdown",
   "id": "5ded2c0c-62c4-4ea0-b1fb-bd4590fdf22b",
   "metadata": {},
   "source": [
    "Performance improvement of programs by doing computations at compile time rather than run time."
   ]
  },
  {
   "cell_type": "code",
   "execution_count": 31,
   "id": "b6a52ea1-3ef2-4648-8a5b-e17a6eec9368",
   "metadata": {},
   "outputs": [],
   "source": [
    "constexpr long accumulator(int n) {\n",
    "    long sum = 0;\n",
    "    for (int i = 0; i < n; i++) {\n",
    "        sum += i;\n",
    "    }\n",
    "    return sum;\n",
    "}"
   ]
  },
  {
   "cell_type": "code",
   "execution_count": 32,
   "id": "00955148-b6ac-4957-8d49-ff54767bd16c",
   "metadata": {},
   "outputs": [
    {
     "name": "stdout",
     "output_type": "stream",
     "text": [
      "Accumulator: 435"
     ]
    }
   ],
   "source": [
    "long non_const_res = accumulator(30);       // Runtime 0.017s\n",
    "const long res = accumulator(30);           // Runtime 0.003s\n",
    "printf(\"Accumulator: %ld\", res);"
   ]
  },
  {
   "cell_type": "markdown",
   "id": "f2a238c3-c771-4fee-8b1c-2760dd4f4a0d",
   "metadata": {},
   "source": [
    "### C++11: `auto` keyword"
   ]
  },
  {
   "cell_type": "code",
   "execution_count": 33,
   "id": "ef79977e-30b8-482a-bf71-395520e4601d",
   "metadata": {},
   "outputs": [],
   "source": [
    "auto i = 42;              // type is int\n",
    "auto f = 42.0;            // type is double\n",
    "auto p = &i;              // type is int*\n",
    "auto c = new MyClass();   // type is MyClass*"
   ]
  },
  {
   "cell_type": "markdown",
   "id": "7fb19301-f8ea-4690-9f09-7ba3fc96cb22",
   "metadata": {
    "tags": []
   },
   "source": [
    "### C++11: RValue Reference"
   ]
  },
  {
   "cell_type": "markdown",
   "id": "223ec0ce-331d-475d-82ae-998d67337705",
   "metadata": {},
   "source": [
    "```Cpp\n",
    "string s1( “hello” );\n",
    "string s2( “ world!” );\n",
    "s1 = s1 + s2;\n",
    "```\n",
    "\n",
    "In the operation s1 = s1 + s2 we actually do:\n",
    "* We call the +-operator which creates a temporary object with the concatenated string\n",
    "* We call the =-operator with the temporary object as parameter\n",
    "* The assignment operator invokes the copy constructor to create a local copy from the temporary object\n",
    "* We swap the content of the parameter object and s1\n",
    "* The temporary object and the local parameter object with the old content of s1 are deleted.\n",
    "\n",
    "We create **two** temporary copies of the concatenated string.\n",
    "\n",
    "* Each copy involves memory allocation. \n",
    "* Each deep copy has complexity of `O(size of content)`\n",
    "\n",
    "However, since the temporary object is not needed anymore, it would be much better to just\n",
    "* Create a temporary string object with concatenated content of s1 and s2\n",
    "* Deleting the old content of s1\n",
    "* Move the temporary object to s1\n",
    "\n",
    "Has only half the copies/object creation, and thus, half the overhead. This can be possible using **RValue References**"
   ]
  },
  {
   "cell_type": "code",
   "execution_count": 34,
   "id": "72f44906-dbfe-4e2f-99bc-02e25f8c1576",
   "metadata": {},
   "outputs": [
    {
     "name": "stderr",
     "output_type": "stream",
     "text": [
      "\u001b[1minput_line_49:3:7: \u001b[0m\u001b[0;1;31merror: \u001b[0m\u001b[1mrvalue reference to type 'int' cannot bind to lvalue of type 'int'\u001b[0m\n",
      "int&& rvalue = b;  // Error because there are not rvalue\n",
      "\u001b[0;1;32m      ^        ~\n",
      "\u001b[0m\u001b[1minput_line_49:4:6: \u001b[0m\u001b[0;1;31merror: \u001b[0m\u001b[1mnon-const lvalue reference to type 'int' cannot bind to a temporary of type 'int'\u001b[0m\n",
      "int& ref = 9;      // Error because there are not rvalue\n",
      "\u001b[0;1;32m     ^     ~\n",
      "\u001b[0m"
     ]
    },
    {
     "ename": "Interpreter Error",
     "evalue": "",
     "output_type": "error",
     "traceback": [
      "Interpreter Error: "
     ]
    }
   ],
   "source": [
    "int a, b;\n",
    "int&& rvalue = b;  // Error because there are not rvalue\n",
    "int& ref = 9;      // Error because there are not rvalue"
   ]
  },
  {
   "cell_type": "markdown",
   "id": "bd39e61d-bfcd-427e-b166-a87a78a2b745",
   "metadata": {
    "tags": []
   },
   "source": [
    "### Move Constructor and Assign operator using RValue"
   ]
  },
  {
   "cell_type": "code",
   "execution_count": 35,
   "id": "f836bd8e-ba76-4098-9f74-d967a8ce23d4",
   "metadata": {},
   "outputs": [],
   "source": [
    "class BoxMoveConstructor {\n",
    "public:\n",
    "    int length;\n",
    "    int height;\n",
    "    int* breadth;\n",
    "    \n",
    "    BoxMoveConstructor() {\n",
    "        this->length = 0;\n",
    "        this->height = 0;\n",
    "        this->breadth = new int;\n",
    "    }\n",
    "    // Copy Constructor\n",
    "    BoxMoveConstructor(const BoxMoveConstructor &copy) {\n",
    "        length = copy.length;\n",
    "        height = copy.height;\n",
    "        breadth = new int;\n",
    "        *breadth = *(copy.breadth);\n",
    "    }\n",
    "    // Custom Copy Assigment operator\n",
    "    BoxMoveConstructor& operator=(const BoxMoveConstructor& copy) {\n",
    "        if (&copy != this) {\n",
    "            // Add one to make a difference\n",
    "            length = copy.length + 1;\n",
    "            height = copy.height + 1;\n",
    "            breadth = new int;\n",
    "            *breadth = *(copy.breadth) + 1;\n",
    "        }\n",
    "        return *this;\n",
    "    }\n",
    "    // Move Constructor\n",
    "    BoxMoveConstructor(BoxMoveConstructor && copy) {\n",
    "        length = copy.length + 2;\n",
    "        height = copy.height + 2;\n",
    "        breadth = copy.breadth;\n",
    "        *breadth = *breadth + 2;\n",
    "        copy.length = 0;\n",
    "        copy.height = 0;\n",
    "        copy.breadth = nullptr;\n",
    "    }\n",
    "    // Custom Move Assigment operator\n",
    "    BoxMoveConstructor& operator=(BoxMoveConstructor&& copy) {\n",
    "        if (&copy != this) {\n",
    "            // Add one to make a difference\n",
    "            length = copy.length + 3;\n",
    "            height = copy.height + 3;\n",
    "            breadth = copy.breadth;\n",
    "            *breadth = *breadth + 3;\n",
    "            copy.length = 0;\n",
    "            copy.height = 0;\n",
    "            copy.breadth = nullptr;\n",
    "        }\n",
    "        return *this;\n",
    "    }\n",
    "}"
   ]
  },
  {
   "cell_type": "code",
   "execution_count": 36,
   "id": "becda0c0-928e-41c6-865a-a7fd82ee7140",
   "metadata": {},
   "outputs": [
    {
     "name": "stdout",
     "output_type": "stream",
     "text": [
      "The length from Box when was using Copy Constructor is: 10\n",
      "The length from Box when was using Copy Assign Operator is: 11\n",
      "The length from Box when was using Move Constructor is: 12\n",
      "The length from Box when was using Move Assign Operator is: 13\n"
     ]
    }
   ],
   "source": [
    "BoxMoveConstructor box_cc = BoxMoveConstructor();\n",
    "box_cc.length = 10;\n",
    "box_cc.height = 5;\n",
    "*(box_cc.breadth) = 9;\n",
    "\n",
    "BoxMoveConstructor box_copy_cc = box_cc;\n",
    "printf(\"The length from Box when was using Copy Constructor is: %d\\n\", box_copy_cc.length);\n",
    "\n",
    "BoxMoveConstructor box_copy_as;\n",
    "box_copy_as = box_cc;\n",
    "printf(\"The length from Box when was using Copy Assign Operator is: %d\\n\", box_copy_as.length);\n",
    "\n",
    "// After using std::move in an Object, the Object is going to be undefined!! \n",
    "BoxMoveConstructor box_move_cc = std::move(box_cc);\n",
    "printf(\"The length from Box when was using Move Constructor is: %d\\n\", box_move_cc.length);\n",
    "\n",
    "box_cc = BoxMoveConstructor();\n",
    "box_cc.length = 10;\n",
    "box_cc.height = 5;\n",
    "*(box_cc.breadth) = 9;\n",
    "\n",
    "BoxMoveConstructor box_move_as;\n",
    "box_move_as = std::move(box_cc);\n",
    "printf(\"The length from Box when was using Move Assign Operator is: %d\\n\", box_move_as.length);"
   ]
  },
  {
   "cell_type": "markdown",
   "id": "e32caba7-0610-40a9-a52f-81e83dee0b6c",
   "metadata": {},
   "source": [
    "### C++11: Lambda Functions"
   ]
  },
  {
   "cell_type": "code",
   "execution_count": 37,
   "id": "4d3c896f-7cf3-4dad-a5a6-6613a9cbed73",
   "metadata": {},
   "outputs": [
    {
     "name": "stdout",
     "output_type": "stream",
     "text": [
      "v contains 3\n",
      "v does not contain 5\n",
      "v contains an even number: 2\n"
     ]
    }
   ],
   "source": [
    "#include <iostream>\n",
    "#include <vector>\n",
    " \n",
    "std::vector<int> v{1, 2, 3, 4};\n",
    "int n1 = 3;\n",
    "int n2 = 5;\n",
    "auto result1 = std::find(begin(v), end(v), n1);\n",
    "auto result2 = std::find(begin(v), end(v), n2);\n",
    "// Lambda Functions to check if the v has elements even\n",
    "auto result3 = std::find_if(begin(v), end(v), [](int i){ return i%2 == 0; });\n",
    "\n",
    "(result1 != std::end(v))\n",
    "    ? std::cout << \"v contains \" << n1 << '\\n'\n",
    "    : std::cout << \"v does not contain \" << n1 << '\\n';\n",
    "\n",
    "(result2 != std::end(v))\n",
    "    ? std::cout << \"v contains \" << n2 << '\\n'\n",
    "    : std::cout << \"v does not contain \" << n2 << '\\n';\n",
    "\n",
    "(result3 != std::end(v))\n",
    "    ? std::cout << \"v contains an even number: \" << *result3 << '\\n'\n",
    "    : std::cout << \"v does not contain even numbers\\n\";"
   ]
  },
  {
   "cell_type": "markdown",
   "id": "b7cc348c-85c6-464e-b972-e65d91d4f12c",
   "metadata": {},
   "source": [
    "### C++11/17: Smart Pointers"
   ]
  },
  {
   "cell_type": "markdown",
   "id": "7fa50abc-d58f-44dc-b892-321489e1027f",
   "metadata": {},
   "source": [
    "* looks and behaves like a regular C++ pointer\n",
    "    * how? by overloading * and ->\n",
    "    * Does not provide ++ etc!\n",
    "* help you manage memory\n",
    "    * the smart pointer will delete the pointed-to object at the right time\n",
    "    * depends on what kind of smart pointer you use\n",
    "    * so, if you use a smart pointer correctly, you no longer have to remember when to delete new’d memory\n",
    "* Benefits:\n",
    "    * Reduce bugs \n",
    "    * Retain efficiency \n",
    "    * Automated memory management\n",
    "\n",
    "![SmartPointers](img/smart_pointers.png)"
   ]
  },
  {
   "cell_type": "markdown",
   "id": "0cf88358-191b-4b34-99bf-10a4f671de21",
   "metadata": {},
   "source": [
    "#### `unique_ptr`"
   ]
  },
  {
   "cell_type": "code",
   "execution_count": 1,
   "id": "a1878a9f-63a2-4dba-aa86-1fdebad2e658",
   "metadata": {},
   "outputs": [],
   "source": [
    "#include <string>\n",
    "\n",
    "class Song {\n",
    "public:\n",
    "    std::string artist;\n",
    "    std::string title;\n",
    "    \n",
    "    Song() {\n",
    "        artist = nullptr;\n",
    "        title = nullptr;\n",
    "    }\n",
    "    Song(const std::string& artist, const std::string& title) {\n",
    "        this->artist = artist;\n",
    "        this->title = title;\n",
    "    }\n",
    "}"
   ]
  },
  {
   "cell_type": "code",
   "execution_count": 4,
   "id": "888dec5f-4eb3-4303-933f-d598e0a19c5b",
   "metadata": {},
   "outputs": [],
   "source": [
    "std::unique_ptr<Song> song_ptr = std::unique_ptr<Song>(new Song(\"Mr. Children\", \"Namonaki Uta\"));"
   ]
  },
  {
   "cell_type": "markdown",
   "id": "32aca4cc-eb81-485e-a513-826daf7a970e",
   "metadata": {},
   "source": [
    "#### `shared_ptr`"
   ]
  },
  {
   "cell_type": "code",
   "execution_count": 2,
   "id": "2d92b7ca-bb3d-4f5d-89ad-8a9200641c6b",
   "metadata": {},
   "outputs": [],
   "source": [
    "std::shared_ptr<int> p1(new int(5));\n",
    "std::shared_ptr<int> p2 = p1; //Both now own the memory.\n",
    "p1.reset(); //Memory still exists, due to p2.\n",
    "p2.reset(); //Deletes the memory, since no one else owns the memory."
   ]
  }
 ],
 "metadata": {
  "kernelspec": {
   "display_name": "C++17",
   "language": "C++17",
   "name": "xcpp17"
  },
  "language_info": {
   "codemirror_mode": "text/x-c++src",
   "file_extension": ".cpp",
   "mimetype": "text/x-c++src",
   "name": "c++",
   "version": "17"
  }
 },
 "nbformat": 4,
 "nbformat_minor": 5
}
