{
 "cells": [
  {
   "cell_type": "markdown",
   "id": "1183852f-484d-4287-bf74-c837a7317a5d",
   "metadata": {},
   "source": [
    "<p style=\"font-size: 30px; font-weight: bold;\">Lock Based Data Structures</p>"
   ]
  },
  {
   "cell_type": "markdown",
   "id": "150c191f-985d-4210-9af5-73c6f4c60b91",
   "metadata": {},
   "source": [
    "# General Design Guidelines - Concurrency"
   ]
  },
  {
   "cell_type": "markdown",
   "id": "96cdba99-dd65-4ec6-8c51-11fb024963dc",
   "metadata": {},
   "source": [
    "* Multiple threads can access the data structure concurrently\n",
    "    * May perform the same or distinct operations\n",
    "* Each thread will see a consistent view of the data structure\n",
    "    * No data lost or corrupted\n",
    "    * All invariants upheld\n",
    "    * No problematic race condition\n",
    "* In general, a data structure will be safe only for certain types of concurrent access"
   ]
  },
  {
   "cell_type": "markdown",
   "id": "93954b91-6553-4e6b-b9b2-65364d7759dd",
   "metadata": {},
   "source": [
    "<img src=\"img/design_concurrency.png\" alt=\"Design for concurrency\" width=\"80%\" style=\"margin: 0 auto;\">"
   ]
  },
  {
   "cell_type": "markdown",
   "id": "8b34d69b-9b38-4a5a-b0a6-02753a85387f",
   "metadata": {},
   "source": [
    "## Guidelines"
   ]
  },
  {
   "cell_type": "markdown",
   "id": "7408ee0d-6f1f-4dee-a357-1fa2d727a459",
   "metadata": {},
   "source": [
    "* No thread shall see invariants broken by another thread\n",
    "* Avoid race conditions inherent in the interface by providing functions for complete operations rather than for operation steps\n",
    "* Pay attention to how the data structure behaves in the presence of exceptions to ensure that the invariants are not broken\n",
    "* Minimize the opportunities for deadlock by restricting the scope of locks and avoiding nested locks where possible"
   ]
  },
  {
   "cell_type": "markdown",
   "id": "0bd2640e-0974-4ca8-add8-bd789617ff03",
   "metadata": {},
   "source": [
    "## Questions to ponder"
   ]
  },
  {
   "cell_type": "markdown",
   "id": "79b913f4-54db-45cd-b0f4-47ff5f156b97",
   "metadata": {},
   "source": [
    "* If one thread is accessing the data structure through a particular function – which functions are safe to call from other threads?\n",
    "    * Constructors and destructors generally require exclusive access\n",
    "    * How about assignment, swap(), or copy constructors?\n",
    "* Can the scope of locks be restricted to parts of a function?\n",
    "* Can different parts of the data structure be protected with different mutexes?\n",
    "* Do all operations require the same level of protection?\n",
    "* Can a simple change to the data structure improve opportunities for concurrency without affecting the operational semantics?"
   ]
  },
  {
   "cell_type": "markdown",
   "id": "506980a8-04c3-4d79-9cb4-17e03e2ba344",
   "metadata": {},
   "source": [
    "# Stack"
   ]
  },
  {
   "cell_type": "markdown",
   "id": "daf92384-25c8-4a7c-a26b-f24b09e9033b",
   "metadata": {},
   "source": [
    "## Ideas for design"
   ]
  },
  {
   "cell_type": "markdown",
   "id": "3022caa7-cef7-43d0-8978-c39033dd87d8",
   "metadata": {},
   "source": [
    "1. Pass in a reference to retrieve the popped item\n",
    "    * Requires calling code to construct an instance of the stack’s value type\n",
    "    * Sometimes expensive or impossible (e.g., lack of constructor arguments)\n",
    "2. Return the popped item as value\n",
    "    * Requires a no-throw copy constructor or move constructor to avoid exception safety problem\n",
    "    * Limiting because not provided by all possible value types\n",
    "3. Return a pointer to the popped item\n",
    "    * Requires managing the memory allocated to the object\n",
    "    * Consider using std::shared_ptr to avoid memory leaks\n",
    "4. Provide both option 1 and either option 2 or 3"
   ]
  },
  {
   "cell_type": "markdown",
   "id": "8e6fc262-3564-4dbb-9d43-0e6de2c7a204",
   "metadata": {},
   "source": [
    "```cpp\n",
    "template<typename T>\n",
    "class ts_stack {\n",
    "private:\n",
    "    std::stack<T> data;\n",
    "    mutable std::mutex m;\n",
    "public:\n",
    "    \n",
    "    ts_stack(){}\n",
    "    \n",
    "    ts_stack(const ts_stack& other) {\n",
    "        std::lock_guard<std::mutex> lock(other.m);\n",
    "        data = other.data;\n",
    "    }\n",
    "    ts_stack& operator=(const ts_stack&) = delete;\n",
    "    \n",
    "    void push(T new_value) {\n",
    "        std::lock_guard<std::mutex> lock(m);\n",
    "        data.push(std::move(new_value));\n",
    "    }\n",
    "    \n",
    "    bool empty() const {\n",
    "        std::lock_guard<std::mutex> lock(m);\n",
    "        return data.empty();\n",
    "    }\n",
    "    \n",
    "    std::shared_ptr<T> pop() {\n",
    "        std::lock_guard<std::mutex> lock(m);\n",
    "        if(data.empty()) throw empty_stack();\n",
    "        std::shared_ptr<T> const res(\n",
    "        std::make_shared<T>(std::move(data.top())));\n",
    "        data.pop();\n",
    "        return res;\n",
    "    }\n",
    "    void pop(T& value) {\n",
    "        std::lock_guard<std::mutex> lock(m);\n",
    "        if(data.empty()) throw empty_stack();\n",
    "        value = std::move(data.top());\n",
    "        data.pop();\n",
    "    }\n",
    "}\n",
    "```"
   ]
  },
  {
   "cell_type": "markdown",
   "id": "468c807a-a35b-4e3c-bab0-e6cf44ee67e0",
   "metadata": {},
   "source": [
    "## Review of interface"
   ]
  },
  {
   "cell_type": "markdown",
   "id": "79b40a18-7781-4b8a-8da5-a5a8b5d0f3f2",
   "metadata": {},
   "source": [
    "* Basic thread safety by protecting each member function call with lock\n",
    "    * Exception: constructor and destructor\n",
    "    * Not big issue because those function are called only once\n",
    "* Potential for race condition between `empty()` and either of the `pop()` versions – not problematic because `pop()` explicitly checks whether stack empty"
   ]
  },
  {
   "cell_type": "markdown",
   "id": "ab1424f6-13bc-46ef-a22a-1cf008f1c2d3",
   "metadata": {},
   "source": [
    "## Potential sources of exceptions"
   ]
  },
  {
   "cell_type": "markdown",
   "id": "8955bbb5-b000-476d-91a4-83923e4575ef",
   "metadata": {},
   "source": [
    "* Locking a mutex – safe because no data has been modified\n",
    "* `push()` : `data.push()` – safe because `std::stack<>` guarantees it\n",
    "* `pop()`\n",
    "    * `empty_stack()` exception – safe because no data has been modified\n",
    "    * `data.pop()` – safe because std::stack<> guarantees it\n",
    "    * First overload of pop() – Creation of res safe because no data has been modified\n",
    "    * First & second overload of pop() – Copy or move assignment op. safe because no data has been modified\n",
    "* `empty()` : does not modify any data"
   ]
  },
  {
   "cell_type": "markdown",
   "id": "81091edc-bf13-436f-97d8-6d3a2a21bb60",
   "metadata": {},
   "source": [
    "## Potential sources of deadlock"
   ]
  },
  {
   "cell_type": "markdown",
   "id": "bf5befd2-3bad-4f94-8ce0-cd6c1dd69a4a",
   "metadata": {},
   "source": [
    "Calling user code while holding a lock\n",
    "* First `pop()` – copy or move constructor of value type\n",
    "* Second `pop()` – copy assignment or move assignment of value type\n",
    "* Sensible to require that users of stack will take care of it"
   ]
  },
  {
   "cell_type": "markdown",
   "id": "685e03d9-9b45-4d91-9dc0-508e18323276",
   "metadata": {},
   "source": [
    "## Performance"
   ]
  },
  {
   "cell_type": "markdown",
   "id": "5ed90304-8744-4017-afc6-6260a7c47102",
   "metadata": {},
   "source": [
    "* Only one thread can do work on the stack at a time\n",
    "    * Effectively serializes operations on the stack\n",
    "* No provision for threads that need to wait for stack to be filled\n",
    "    * Repeated calls to empty() – busy waiting\n",
    "    * Alternative – external wait and notify code"
   ]
  },
  {
   "cell_type": "markdown",
   "id": "be91c1ed-8816-441f-95df-573b63917bd7",
   "metadata": {},
   "source": [
    "# Queue with `std::queue`"
   ]
  },
  {
   "cell_type": "markdown",
   "id": "75b55af4-9917-4d2c-bf22-537469af8644",
   "metadata": {},
   "source": [
    "<img src=\"img/queue_thread.png\" alt=\"Queue Thread\" width=\"60%\">"
   ]
  },
  {
   "cell_type": "markdown",
   "id": "619d863b-4525-4d9d-88f2-15acd42b7e2c",
   "metadata": {},
   "source": [
    "## A thread-safe queue with condition variables"
   ]
  },
  {
   "cell_type": "markdown",
   "id": "ae02e8b3-cd34-4ecf-aeea-f4dc3f216cc0",
   "metadata": {},
   "source": [
    "* Combine `front()` and `pop()` into a single function call\n",
    "* Two variants of `pop()`\n",
    "    * `try_pop()` – always returns immediately with an indication of success\n",
    "    * `wait_and_pop()` – waits until there is a value to retrieve"
   ]
  },
  {
   "cell_type": "markdown",
   "id": "a114cb0f-11d2-4ced-a49d-d2e82c2ce75d",
   "metadata": {},
   "source": [
    "## Thread-safe Queue"
   ]
  },
  {
   "cell_type": "markdown",
   "id": "7a8f2d6d-3ffe-40f5-a8d1-ff3fec0f7673",
   "metadata": {},
   "source": [
    "```cpp\n",
    "class ts_queue\n",
    "{\n",
    "private:\n",
    "    mutable std::mutex mut;\n",
    "    std::queue<T> data_queue;\n",
    "    std::condition_variable data_cond;\n",
    "public:\n",
    "    ts_queue() {}\n",
    "    ts_queue(ts_queue const& other) {\n",
    "        std::lock_guard<std::mutex> lk(other.mut);\n",
    "        data_queue = other.data_queue;\n",
    "    }\n",
    "    \n",
    "    void push(T new_value) {\n",
    "        std::lock_guard<std::mutex> lk(mut);\n",
    "        data_queue.push(new_value);\n",
    "        data_cond.notify_one();\n",
    "    }\n",
    "    \n",
    "    bool empty() const {\n",
    "        std::lock_guard<std::mutex> lk(mut);\n",
    "        return data_queue.empty();\n",
    "    }\n",
    "    \n",
    "    void wait_and_pop(T& value) {\n",
    "        std::unique_lock<std::mutex> lk(mut);\n",
    "        data_cond.wait(lk, [this]{return !data_queue.empty();});\n",
    "        value=data_queue.front();\n",
    "        data_queue.pop();\n",
    "    }\n",
    "    \n",
    "    std::shared_ptr<T> wait_and_pop() {\n",
    "        std::unique_lock<std::mutex> lk(mut);\n",
    "        data_cond.wait(lk, [this]{return !data_queue.empty();});\n",
    "        std::shared_ptr<T> res(std::make_shared<T>(data_queue.front()));\n",
    "        data_queue.pop();\n",
    "        return res;\n",
    "    }\n",
    "    \n",
    "    bool try_pop(T& value) {\n",
    "        std::lock_guard<std::mutex> lk(mut);\n",
    "        if(data_queue.empty)\n",
    "            return false;\n",
    "        value = data_queue.front();\n",
    "        data_queue.pop();\n",
    "        return true;\n",
    "    }\n",
    "    \n",
    "    std::shared_ptr<T> try_pop() {\n",
    "        std::lock_guard<std::mutex> lk(mut);\n",
    "        if(data_queue.empty())\n",
    "            return std::shared_ptr<T>();\n",
    "        std::shared_ptr<T> res(std::make_shared<T>(data_queue.front()));\n",
    "        data_queue.pop();\n",
    "        return res;\n",
    "    }\n",
    "};\n",
    "```"
   ]
  },
  {
   "cell_type": "markdown",
   "id": "8dff1353-d1a8-46f9-8385-b209ec962e9c",
   "metadata": {},
   "source": [
    "## Exception Safety"
   ]
  },
  {
   "cell_type": "markdown",
   "id": "0fde3b01-8a50-4dc9-9f24-4438b9bc11f2",
   "metadata": {},
   "source": [
    "* If a thread throws exception in `wait_and_pop()`, e.g., when a shared pointer is constructed, none of the other threads will be woken\n",
    "* Three possible solutions\n",
    "    * Use `notify_all` – at the cost of most of them going back to sleep\n",
    "    * Let `wait_and_pop()` call `notify_one()` if an exception is thrown\n",
    "    * Move shared-pointer initialization to push call – requires storing shared pointers instead of plain values in the queue"
   ]
  },
  {
   "cell_type": "markdown",
   "id": "60095244-33b0-439a-90ec-8340cac37c75",
   "metadata": {},
   "source": [
    "## Review"
   ]
  },
  {
   "cell_type": "markdown",
   "id": "ea0fa92e-7c3d-4eb6-9cdc-dc3570804485",
   "metadata": {},
   "source": [
    "* One protected data item - data_queue\n",
    "* Essentially thread-safe wrapper around std::queue\n",
    "    * Requires only one mutex\n",
    "* Thread safe but concurrency limited\n",
    "* Alternative: fine-grained locking\n",
    "    * Requires control of implementation details"
   ]
  },
  {
   "cell_type": "markdown",
   "id": "fe3d015c-444b-4b23-8100-2d254a37130d",
   "metadata": {},
   "source": [
    "# Simple Queue based on Single-Linked List"
   ]
  },
  {
   "cell_type": "markdown",
   "id": "2f3f30c9-cc1d-4f6d-bd8c-023962855371",
   "metadata": {},
   "source": [
    "<img src=\"img/simple_queue_thread.png\" alt=\"Simple Queue Thread\" width=\"60%\" style=\"margin: 0 auto;\">"
   ]
  },
  {
   "cell_type": "markdown",
   "id": "b3c75b16-5601-4169-8fa6-cf472294f664",
   "metadata": {},
   "source": [
    "* Items are added at the tail\n",
    "* Items are removed from the head\n",
    "* When the list is empty – both the head and the tail pointers are `NULL`"
   ]
  },
  {
   "cell_type": "markdown",
   "id": "88a77321-7528-444b-ab36-f0212b3f95cf",
   "metadata": {},
   "source": [
    "```cpp\n",
    "template<typename T>\n",
    "class queue {\n",
    "public:\n",
    "    queue(): tail(nullptr) {}\n",
    "    queue(const queue& other) = delete;\n",
    "    queue& operator=(const queue& other) = delete;\n",
    "    std::shared_ptr<T> try_pop();\n",
    "    void push(T new_value);\n",
    "private:\n",
    "    struct node {\n",
    "        T data;\n",
    "        std::unique_ptr<node> next;\n",
    "        node(T data_) :\n",
    "        data(std::move(data_)) {}\n",
    "    };\n",
    "    std::unique_ptr<node> head;\n",
    "    node* tail;\n",
    "};\n",
    "```"
   ]
  },
  {
   "cell_type": "markdown",
   "id": "146a81fc-987e-43eb-86ee-62d4f3f2c450",
   "metadata": {},
   "source": [
    "```cpp\n",
    "// try_pop method for sequential execution\n",
    "std::shared_ptr<T> queue::try_pop() {\n",
    "    if(!head) {\n",
    "        return std::shared_ptr<T>();\n",
    "    }\n",
    "    std::shared_ptr<T> const res(std::make_shared<T>(std::move(head->data)));\n",
    "    std::unique_ptr<node> const old_head = std::move(head);\n",
    "    head = std::move(old_head->next);\n",
    "    if(!head) tail = nullptr;\n",
    "    return res;\n",
    "}\n",
    "```"
   ]
  },
  {
   "cell_type": "markdown",
   "id": "332355f6-1a63-4fcd-98d7-a8a2a4e35839",
   "metadata": {},
   "source": [
    "```cpp\n",
    "void queue::push(T new_value) {\n",
    "    std::unique_ptr<node> p(new node(std::move(new_value)));\n",
    "    node* const new_tail = p.get();\n",
    "    if(tail) {\n",
    "        tail->next = std::move(p);\n",
    "    }\n",
    "    else {\n",
    "        head = std::move(p);\n",
    "    }\n",
    "    tail = new_tail;\n",
    "}\n",
    "```"
   ]
  },
  {
   "cell_type": "markdown",
   "id": "c8405d71-89f6-4354-929c-5985eff2598d",
   "metadata": {},
   "source": [
    "## Parallelization"
   ]
  },
  {
   "cell_type": "markdown",
   "id": "851ff0a2-66bd-497d-a2d5-8070cc8ea8bd",
   "metadata": {},
   "source": [
    "Idea – use separate mutexes for head and tail\n",
    "* `push()` can modify head and tail\n",
    "    * Requires locking both mutexes\n",
    "    * Unfortunate, but not a big problem\n",
    "* Both `push()` and `try_pop()` access next pointer of a node\n",
    "    * `push()` updates `tail->next`\n",
    "    * `try_pop()` reads `head->next`\n",
    "    * If there is a single item in the queue, then `head == tail`\n",
    "    * Finding out requires locking the same mutex in `push()` and `try_pop()`"
   ]
  },
  {
   "cell_type": "markdown",
   "id": "5ad4a1c8-04fe-4c63-9db2-cf6c5b07686c",
   "metadata": {},
   "source": [
    "<img src=\"img/simple_queue_thread_dummy.png\" alt=\"Simple Queue Thread\" width=\"60%\" style=\"margin: 0 auto;\">"
   ]
  },
  {
   "cell_type": "markdown",
   "id": "82dca6b9-6c81-4581-9b6f-56135b9be80b",
   "metadata": {},
   "source": [
    "```cpp\n",
    "// try_pop method for parallel execution not yet parallel consistency\n",
    "std::shared_ptr<T> queue::try_pop() {\n",
    "    if(head.get() == tail) {\n",
    "        return std::shared_ptr<T>();\n",
    "    }\n",
    "    std::shared_ptr<T> const res(std::move(head->data));\n",
    "    std::unique_ptr<node> const old_head = std::move(head);\n",
    "    head = std::move(old_head->next);\n",
    "    return res;\n",
    "}\n",
    "```"
   ]
  },
  {
   "cell_type": "markdown",
   "id": "ac587285-87a5-4382-b410-99563bc9b0e6",
   "metadata": {},
   "source": [
    "```cpp\n",
    "// push method for parallel execution\n",
    "void queue::push(T new_value) {\n",
    "    std::shared_ptr<T> new_data( std::make_shared<T>(std::move(new_value)) );\n",
    "    std::unique_ptr<node> p(new node);\n",
    "    tail->data = new_data;\n",
    "    node* const new_tail = p.get();\n",
    "    tail->next = std::move(p);\n",
    "    tail = new_tail;\n",
    "}\n",
    "```"
   ]
  },
  {
   "cell_type": "markdown",
   "id": "9a5f3b75-cf07-41ed-8807-c60ca84f50b3",
   "metadata": {},
   "source": [
    "## Discussion"
   ]
  },
  {
   "cell_type": "markdown",
   "id": "91a5f99d-df62-446f-aa10-3dd47ae36730",
   "metadata": {},
   "source": [
    "* `push()` now accesses only tail not head\n",
    "* `try_pop()` accesses both head and tail – but tail is needed only for the initial comparison\n",
    "    * Lock will be needed only for a short time\n",
    "* Main advantage – `try_pop()` and `push()` will never operate on the same node\n",
    "    * No need for overarching mutex\n",
    "    * Creates significantly better opportunities for concurrency"
   ]
  },
  {
   "cell_type": "markdown",
   "id": "2bcc78f4-befa-4e18-801e-92471c5d5d5b",
   "metadata": {},
   "source": [
    "## a thread-safe queue with fine-grained locking"
   ]
  },
  {
   "cell_type": "markdown",
   "id": "85f8b30f-135a-472b-b211-0c169a87f71b",
   "metadata": {},
   "source": [
    "```cpp\n",
    "template<typename T>\n",
    "class ts_queue {\n",
    "private:\n",
    "    std::mutex head_mutex;\n",
    "    std::mutex tail_mutex;\n",
    "    node* get_tail();\n",
    "    std::unique_ptr<node> pop_head();\n",
    "    \n",
    "    struct node {\n",
    "        std::shared_ptr<T> data;\n",
    "        std::unique_ptr<node> next;\n",
    "        node(T data_) :\n",
    "        data(std::make_shared<T>(std::move(data_))) {}\n",
    "    };\n",
    "    \n",
    "    std::unique_ptr<node> head;\n",
    "    node* tail;\n",
    "public:\n",
    "    ts_queue():\n",
    "    head(new node),tail(head.get()) {}\n",
    "    ts_queue(const ts_queue& other) = delete;\n",
    "    ts_queue& operator=(const ts_queue& other) = delete;\n",
    "    std::shared_ptr<T> try_pop();\n",
    "    void push(T new_value);\n",
    "};\n",
    "```"
   ]
  },
  {
   "cell_type": "markdown",
   "id": "ef9e5110-5df7-43f1-bfc8-1e15d2a85a14",
   "metadata": {},
   "source": [
    "```cpp\n",
    "node* get_tail() {\n",
    "    std::lock_guard<std::mutex> tail_lock(tail_mutex);\n",
    "    return tail;\n",
    "}\n",
    "```"
   ]
  },
  {
   "cell_type": "markdown",
   "id": "7538a312-338a-493b-aa4a-2e4a437fc034",
   "metadata": {},
   "source": [
    "```cpp\n",
    "std::unique_ptr<node> pop_head() {\n",
    "    std::lock_guard<std::mutex> head_lock(head_mutex);\n",
    "    if(head.get() == get_tail()) {\n",
    "        return nullptr;\n",
    "    }\n",
    "    std::unique_ptr<node> const old_head = std::move(head);\n",
    "    head = std::move(old_head->next);\n",
    "    return old_head;\n",
    "}\n",
    "```"
   ]
  },
  {
   "cell_type": "markdown",
   "id": "c00ba4d7-7357-4ac2-af59-da4f83315144",
   "metadata": {},
   "source": [
    "```cpp\n",
    "std::shared_ptr<T> try_pop() {\n",
    "    std::unique_ptr<node> old_head = pop_head();\n",
    "    return old_head ? old_head->data : std::shared_ptr<T>();\n",
    "}\n",
    "```"
   ]
  },
  {
   "cell_type": "markdown",
   "id": "8eececfa-a544-4102-a8dd-ad029e924d3e",
   "metadata": {},
   "source": [
    "```cpp\n",
    "void push(T new_value) {\n",
    "    std::shared_ptr<T> new_data(std::make_shared<T>(std::move(new_value)));\n",
    "    std::unique_ptr<node> p(new node);\n",
    "    node* const new_tail = p.get();\n",
    "    std::lock_guard<std::mutex> tail_lock(tail_mutex);\n",
    "    tail->data = new_data;\n",
    "    tail->next = std::move(p);\n",
    "    tail = new_tail;\n",
    "}\n",
    "```"
   ]
  },
  {
   "cell_type": "markdown",
   "id": "b5e2d959-fe70-42a5-a22e-4b960dfb60ca",
   "metadata": {},
   "source": [
    "## Invariants"
   ]
  },
  {
   "cell_type": "markdown",
   "id": "347e4c9e-ddd0-4170-90f7-de37a8d2b063",
   "metadata": {},
   "source": [
    "* `tail->next == nullptr` \n",
    "* `tail->data == nullptr`\n",
    "* `head == tail` implies an empty queue\n",
    "* A single-element queue has `head->next == tail`\n",
    "* For each node `x` in the queue, where `x != tail`, `x->data` points to an instance of `T` and `x->next` points to the next node in the queue\n",
    "* `x->next == tail` implies `x` is the last item node the queue\n",
    "* Following the next nodes from head will eventually yield tail"
   ]
  },
  {
   "cell_type": "markdown",
   "id": "58b8e1e3-f1ee-4c2b-91d9-437b97d788f9",
   "metadata": {},
   "source": [
    "### Race conditions / data races – `push()`"
   ]
  },
  {
   "cell_type": "markdown",
   "id": "213f88af-0458-4f63-be8c-ba6b1c5fbf35",
   "metadata": {},
   "source": [
    "* All modifications to the data structure protected by `tail_mutex`\n",
    "* Modifications uphold invariants\n",
    "    * New tail node is empty node\n",
    "    * data and next correctly set for old tail node (last real node in the queue)"
   ]
  },
  {
   "cell_type": "markdown",
   "id": "f97ec7af-3c96-45ed-b65b-d4f70166b72f",
   "metadata": {},
   "source": [
    "### Race conditions / data races – `try_pop()`"
   ]
  },
  {
   "cell_type": "markdown",
   "id": "9a47a49b-95d2-4699-825c-f86e64862da8",
   "metadata": {},
   "source": [
    "* Locking `tail_mutex` avoids data race when reading tail\n",
    "    * The mutex ensures that try_pop() either sees the old or a new value of tail and the new data attached to the previous value of tail\n",
    "    * Note that push can only add data but not remove it\n",
    "* Also important that `get_tail()` is called inside the lock on head mutex"
   ]
  },
  {
   "cell_type": "markdown",
   "id": "768776d7-953c-4bb5-a43c-48ca829044df",
   "metadata": {},
   "source": [
    "## Concurrency"
   ]
  },
  {
   "cell_type": "markdown",
   "id": "22d0d5a7-1389-4d4c-913d-2b2739c71a7f",
   "metadata": {},
   "source": [
    "* More is done outside locks in comparison to wrapper implementation\n",
    "* Expensive memory allocations in push() occur outside locks\n",
    "    * Adding node to the queue involves only simple pointer assignments\n",
    "    * Improves concurrency between different calls to push()\n",
    "* `try_pop()` holds tail_mutex only for short time\n",
    "    * Improves concurrency between try_pop() and push()\n",
    "* Operations under protection of head_mutex are cheap\n",
    "    * Expensive delete operations in try_pop() occur outside lock\n",
    "    * Improves concurrency between different calls to try_pop()"
   ]
  }
 ],
 "metadata": {
  "kernelspec": {
   "display_name": "C++17",
   "language": "C++17",
   "name": "xcpp17"
  },
  "language_info": {
   "codemirror_mode": "text/x-c++src",
   "file_extension": ".cpp",
   "mimetype": "text/x-c++src",
   "name": "c++",
   "version": "17"
  }
 },
 "nbformat": 4,
 "nbformat_minor": 5
}
