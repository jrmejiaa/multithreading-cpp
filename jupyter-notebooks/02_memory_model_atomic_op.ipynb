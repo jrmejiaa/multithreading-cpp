{
 "cells": [
  {
   "cell_type": "markdown",
   "id": "82daa2e3-64e9-4bff-8adc-06b878248a34",
   "metadata": {},
   "source": [
    "<p style=\"font-size: 30px; font-weight: bold;\">Memory Model</p>"
   ]
  },
  {
   "cell_type": "markdown",
   "id": "25abc02c-bb66-46ad-a4e2-8493fe48edb1",
   "metadata": {},
   "source": [
    "C++ concurrency mechanisms rely on language guarantees known as **memory model**\n",
    "\n",
    "Answers questions such as\n",
    "* Can two variables be updated concurrently without interference?\n",
    "* In which order does a thread observe the writes of other threads?"
   ]
  },
  {
   "cell_type": "markdown",
   "id": "ab6194e8-b658-4750-b8ae-94668f38973f",
   "metadata": {},
   "source": [
    "# Order of updates"
   ]
  },
  {
   "cell_type": "markdown",
   "id": "0f7abf41-7c13-4ac3-a912-4ece5b449e40",
   "metadata": {},
   "source": [
    "Can be influenced by two factors\n",
    "* Order in which memory request “messages” arrive not necessarily the same as the one in which they were issued\n",
    "* A single thread may observe writes in an order different from the order another thread wrote them\n",
    "* Order may even differ among multiple readers\n",
    "* Compiler may re-order instructions (even possible on uni-processor systems)"
   ]
  },
  {
   "cell_type": "markdown",
   "id": "d2b368f9-a7c1-41bd-8155-1dd0c4edd044",
   "metadata": {},
   "source": [
    "# Objects and Memory locations"
   ]
  },
  {
   "cell_type": "markdown",
   "id": "4629108b-baa3-41db-a194-8ffd2d8aef19",
   "metadata": {},
   "source": [
    "All data in a C++ program is made up of objects\n",
    "* An object is a region of storage\n",
    "* Every variable is an object, including those that are members of other objects\n",
    "* Every object occupies at least one memory location\n",
    "* Variables of fundamental types such as int or char are exactly one memory location, whatever their size, even if they are adjacent or part of an array\n",
    "* Adjacent bit fields are part of the same memory location\n",
    "* The C++ memory model guarantees that we can update two separate memory locations without interference"
   ]
  },
  {
   "cell_type": "markdown",
   "id": "06088028-2596-4c4a-bcee-ebb0c4dc23ae",
   "metadata": {},
   "source": [
    "<img src=\"img/obj_mem_alloc.png\" alt=\"Object memory allocation example\" width=\"80%\" style=\"margin: 0 auto;\">"
   ]
  },
  {
   "cell_type": "markdown",
   "id": "b89b2bf5-d118-43c7-a7e9-cf2141936e80",
   "metadata": {},
   "source": [
    "# Atomic Operations"
   ]
  },
  {
   "cell_type": "markdown",
   "id": "a6bc2fa1-fb23-4186-abe8-8b474996614d",
   "metadata": {},
   "source": [
    "**Data race** – if there is no enforced ordering between two accesses to a single memory location from separate threads, one or both of the accesses is non-atomic, and one or both is a write\n",
    "\n",
    "* An atomic operation is an indivisible operation\n",
    "    * Cannot be observed half-done\n",
    "    * Either done or not done\n",
    "* Non-atomic operations may be observed half-done by another thread\n",
    "    * Can cause data race\n",
    "* Non-atomic accesses can be ordered around an atomic operation\n",
    "    * Foundation for data protection and synchronization mechanisms"
   ]
  },
  {
   "cell_type": "markdown",
   "id": "d8fe0a7d-6e43-4551-bf6d-1b95e3157424",
   "metadata": {},
   "source": [
    "<img src=\"img/half_written_array.png\" alt=\"Object memory allocation example\" width=\"80%\" style=\"margin: 0 auto;\">"
   ]
  },
  {
   "cell_type": "markdown",
   "id": "83e0b93e-f26d-4edb-8534-4d31e5110ae4",
   "metadata": {},
   "source": [
    "## Standard atomic types"
   ]
  },
  {
   "cell_type": "markdown",
   "id": "a9a1c834-62f1-4706-a41b-ee82a9486c4a",
   "metadata": {},
   "source": [
    "* Assignment from and implicit conversion to the corresponding built-in types\n",
    "* Direct `load()` and `store()` member functions, `exchange()`, `compare_exchange_weak()`, and `compare_exchange_strong()`\n",
    "* Compound assignment operators where appropriate: `+=`, `-=`, `*=`, `|=`, etc. and corresponding named member functions such as `fetch_add()`"
   ]
  },
  {
   "cell_type": "markdown",
   "id": "5aae74ae-cdcc-4008-bd71-6590b8522d7f",
   "metadata": {},
   "source": [
    "## `compare_exchange_strong()`"
   ]
  },
  {
   "cell_type": "markdown",
   "id": "5a5e232c-139b-4611-84dc-979fdbcb0da8",
   "metadata": {},
   "source": [
    "<img src=\"img/compare_exchange_strong.png\" alt=\"Compare Exchange Strong flow\" width=\"80%\" style=\"margin: 0 auto;\">"
   ]
  },
  {
   "cell_type": "markdown",
   "id": "5669ac8b-224e-4186-9abe-d162b1f3be31",
   "metadata": {},
   "source": [
    "## `compare_exchange_weak()`"
   ]
  },
  {
   "cell_type": "markdown",
   "id": "253b1408-9d7d-426b-a727-dc56a9913c8f",
   "metadata": {},
   "source": [
    "<img src=\"img/compare_exchange_weak.png\" alt=\"Compare Exchange weak flow\" width=\"80%\" style=\"margin: 0 auto;\">"
   ]
  },
  {
   "cell_type": "code",
   "execution_count": 17,
   "id": "293e3eb8-f76d-4b3d-adde-27ba5ff49d50",
   "metadata": {},
   "outputs": [
    {
     "name": "stdout",
     "output_type": "stream",
     "text": [
      "The system return the expected value\n"
     ]
    }
   ],
   "source": [
    "// FIRST CASE => b = false before\n",
    "\n",
    "#include <atomic>\n",
    "#include <assert.h> \n",
    "#include <iostream>\n",
    "\n",
    "std::atomic<bool> b = false;\n",
    "bool expected = false;\n",
    "// Assure this value is the desired\n",
    "while (!b.compare_exchange_weak(expected, true) && !expected) {\n",
    "    std::cout << \"In Loop wtih expected: \" << expected << std::endl;\n",
    "}\n",
    "if (b == true) std::cout << \"The system return the expected value\\n\";"
   ]
  },
  {
   "cell_type": "code",
   "execution_count": 18,
   "id": "7107df4f-e45e-484a-a983-f30696a9bcba",
   "metadata": {},
   "outputs": [
    {
     "name": "stdout",
     "output_type": "stream",
     "text": [
      "The system return the expected value\n"
     ]
    }
   ],
   "source": [
    "// SECOND CASE => b = true before\n",
    "\n",
    "#include <atomic>\n",
    "#include <assert.h> \n",
    "#include <iostream>\n",
    "\n",
    "std::atomic<bool> b = true;\n",
    "bool expected = false;\n",
    "// Assure this value is the desired\n",
    "while (!b.compare_exchange_weak(expected, true) && !expected) {\n",
    "    std::cout << \"In Loop wtih expected: \" << expected << std::endl;\n",
    "}\n",
    "if (b == true) std::cout << \"The system return the expected value\\n\";"
   ]
  },
  {
   "cell_type": "markdown",
   "id": "3a5d22c7-4b39-4a07-8030-66aacb12794e",
   "metadata": {},
   "source": [
    "## Atomic pointer arithmetic"
   ]
  },
  {
   "cell_type": "markdown",
   "id": "9e9998be-a46b-496a-9e52-343993534569",
   "metadata": {},
   "source": [
    "* Atomic form of a pointer is `std::atomic<T*>`\n",
    "* Interface similar to `std::atomic<bool>` \n",
    "* Additional operations for pointer arithmetic\n",
    "* `+=`, `-=`, pre- and post-increment and decrement `++`, `--`\n",
    "* `fetch_add()`, `fetch_sub()` – return original value (read-modify-write operation)"
   ]
  },
  {
   "cell_type": "markdown",
   "id": "0e490a44-5560-44c2-92bf-63b0663224df",
   "metadata": {},
   "source": [
    "<img src=\"img/atomic_pointer_op.png\" alt=\"Atomic Pointer operations example\" width=\"80%\" style=\"margin: 0 auto;\">"
   ]
  },
  {
   "cell_type": "markdown",
   "id": "aea1e4fe-df1b-42f5-bcb7-1ca206338ef6",
   "metadata": {},
   "source": [
    "# Defferent views on the Multiverse"
   ]
  },
  {
   "cell_type": "markdown",
   "id": "9d04bc36-0039-42a3-973f-9ca636ce6bc4",
   "metadata": {},
   "source": [
    "<img src=\"img/multiverse_example.png\" alt=\"Multiverse example\" width=\"80%\" style=\"margin: 0 auto;\">"
   ]
  },
  {
   "cell_type": "markdown",
   "id": "a4b51afb-1f17-422a-9c86-8a2239fd9c2d",
   "metadata": {},
   "source": [
    "* The different universes each constitute a separate memory location that is shared between all threads\n",
    "* You and your friends constitute threads that access these memory locations\n",
    "* Traveling to a universe is the same as reading or writing a memory location\n",
    "* The history of a universe is the same as the history of a memory location"
   ]
  },
  {
   "cell_type": "markdown",
   "id": "45bfb66e-ebf6-431e-bfa0-7a54e9a2c3d5",
   "metadata": {},
   "source": [
    "# Memory Order"
   ]
  },
  {
   "cell_type": "markdown",
   "id": "783712be-fc7b-44eb-a308-9fa491bb7511",
   "metadata": {},
   "source": [
    "## Sequential Consistency"
   ]
  },
  {
   "cell_type": "markdown",
   "id": "e015f587-404e-42aa-b51c-b1dc2c24ffc2",
   "metadata": {},
   "source": [
    "* Simplest memory order\n",
    "* Every thread sees the effects of every operation in the same order. There are only two possibilities that an atomic operation A *happens-before* B or an operation B *happens-before* A. This operations can be in different threads and there are no problem in that case.\n",
    "    * As if the operations of all the threads were executed in some sequential order (like by a single thread)\n",
    "    * The operations of each individual thread appear in this sequence in the order specified by the program\n",
    "* Many possible sequentially consistent orders for a given set of threads"
   ]
  },
  {
   "cell_type": "markdown",
   "id": "3c0db365-6b65-4ee4-90b8-fa6fe3be8735",
   "metadata": {},
   "source": [
    "### Principles to satisfy sequential consistency"
   ]
  },
  {
   "cell_type": "markdown",
   "id": "340f1fa4-7760-47b6-b628-f7b4c0581c0f",
   "metadata": {},
   "source": [
    "1. Method calls should appear to happen in a one-at-a-time, sequential order\n",
    "2. Method calls should appear to take effect in program order. \n",
    "    * Program order is the order in which a single thread issues method calls. Method calls by different threads are unrelated by program order.\n",
    "\n",
    "It does not matter that there are more possible representations, if we found **one** that fulfills what we are seeing in the history, it is **sequential consistency**"
   ]
  },
  {
   "cell_type": "markdown",
   "id": "54be394e-f780-4cd3-a352-4e958c65307a",
   "metadata": {},
   "source": [
    "<img src=\"img/multiverse_example_2.jpg\" alt=\"Multiverse example with FIFO\" width=\"80%\" style=\"margin: 0 auto;\">"
   ]
  },
  {
   "cell_type": "markdown",
   "id": "b0ecc1c0-e4bb-4bf1-bab1-7128118ea7f7",
   "metadata": {},
   "source": [
    "## Synchronizing operations and enforcing ordering"
   ]
  },
  {
   "cell_type": "markdown",
   "id": "602c9d29-0202-4ff8-9814-2fc616ae6a19",
   "metadata": {},
   "source": [
    "<img src=\"img/ordering_with_atomics.png\" alt=\"Compare Exchange weak flow\" width=\"80%\" style=\"margin: 0 auto;\">"
   ]
  },
  {
   "cell_type": "markdown",
   "id": "16465b6d-8dfc-4264-b94f-aa5fd5d73c17",
   "metadata": {},
   "source": [
    "## Sequenced-before"
   ]
  },
  {
   "cell_type": "markdown",
   "id": "94167652-0191-4a53-92b3-15ab861f0c4a",
   "metadata": {},
   "source": [
    "* Within the same thread, evaluation A may be sequenced-before evaluation B according to the C++ evaluation order\n",
    "* Between different threads, an evaluation A of one thread may `synchronize-with` an evaluation of another thread, or they might be `dependency-ordered-before`"
   ]
  },
  {
   "cell_type": "markdown",
   "id": "6824d5ce-3c3e-49aa-9116-a7b5630423b9",
   "metadata": {},
   "source": [
    "## Syncrohinzes-with relationship"
   ]
  },
  {
   "cell_type": "markdown",
   "id": "48c14475-f1d5-42e1-884e-c457a575c177",
   "metadata": {},
   "source": [
    "The synchronizes-with relationship is something that you can get only between operations on atomic types. Operation `A` synchronizes-with operation `B`, if `A` is a store to some atomic variable `m`, with an ordering of `std::memory_order_release`, or `std::memory_order_seq_cst`, `B` is a load from the same variable `m`, with an ordering of `std::memory_order_acquire` or `std::memory_order_seq_cst`, and `B` reads the value stored by `A`."
   ]
  },
  {
   "cell_type": "markdown",
   "id": "2eb66091-7999-4236-be90-390bf59129a6",
   "metadata": {},
   "source": [
    "## Dependency-before relationship"
   ]
  },
  {
   "cell_type": "markdown",
   "id": "ae4127ea-5169-4606-8144-592c29284c2c",
   "metadata": {},
   "source": [
    "Dependency-ordered-before does not affect other variables other than the one with the atomic memory order imposed. This is the big difference with `synchronizes-with` relationship, where this is a rule of this relationship. In the case of the example, the variable `a` could be fire because there no relationship with the `while` loop"
   ]
  },
  {
   "cell_type": "markdown",
   "id": "9777c7d9-388a-407a-8eaa-35a8cbbf79e4",
   "metadata": {},
   "source": [
    "<img src=\"img/dependency-ordered-before-2.png\" alt=\"dependency-ordered-before.png\" width=\"80%\" style=\"margin: 0 auto;\">"
   ]
  },
  {
   "cell_type": "markdown",
   "id": "363fe5e4-b206-48b9-a659-4669d4db9b24",
   "metadata": {},
   "source": [
    "<img src=\"img/dependency-ordered-before.png\" alt=\"dependency-ordered-before.png\" width=\"80%\" style=\"margin: 0 auto;\">"
   ]
  },
  {
   "cell_type": "markdown",
   "id": "b23cb378-7331-490f-809c-f035f922dc4a",
   "metadata": {},
   "source": [
    "## Relationships between evaluations"
   ]
  },
  {
   "cell_type": "markdown",
   "id": "436ea562-333f-4988-893f-987d408db70d",
   "metadata": {},
   "source": [
    "<img src=\"img/sequence_before.png\" alt=\"Sequence before\" width=\"80%\" style=\"margin: 0 auto;\">"
   ]
  },
  {
   "cell_type": "markdown",
   "id": "8853c4af-1302-4e16-b90f-456f8e51ae3c",
   "metadata": {},
   "source": [
    "<img src=\"img/synchronizes-with.png\" alt=\"relationships with synchronizes-with\" width=\"80%\" style=\"margin: 0 auto;\">"
   ]
  },
  {
   "cell_type": "markdown",
   "id": "89849aab-00ec-4bcb-bfb9-42ec8a89eb95",
   "metadata": {
    "tags": []
   },
   "source": [
    "## Inter-thread happens-before and Happens-before relationship"
   ]
  },
  {
   "cell_type": "markdown",
   "id": "64b9cacd-6b36-4850-9e04-565ada3cb1b8",
   "metadata": {
    "tags": []
   },
   "source": [
    "### Inter-thread happens-before"
   ]
  },
  {
   "cell_type": "markdown",
   "id": "b03c6d22-c2bb-4a30-b919-fa97d2c6cdae",
   "metadata": {
    "tags": []
   },
   "source": [
    "Between threads, evaluation A inter-thread happens before evaluation B if any of the following is true\n",
    "\n",
    "* A synchronizes-with B\n",
    "* A is dependency-ordered before B\n",
    "* A synchronizes-with some evaluation X, and X is sequenced-before B\n",
    "* A is sequenced-before some evaluation X, and X inter-thread happens-before B\n",
    "* A inter-thread happens-before some evaluation X, and X inter-thread happens-before B"
   ]
  },
  {
   "cell_type": "markdown",
   "id": "de95f1c2-5751-4b38-83f5-896e8358cb54",
   "metadata": {
    "tags": []
   },
   "source": [
    "### Happens-before"
   ]
  },
  {
   "cell_type": "markdown",
   "id": "b421bfb5-1896-42b7-ab2d-a6de25d2387c",
   "metadata": {
    "tags": []
   },
   "source": [
    "Regardless of threads, evaluation A happens-before evaluation B if any of the following is true:\n",
    "\n",
    "* A is sequenced-before B\n",
    "* A inter-thread happens before B\n",
    "\n",
    "If one evaluation modifies a memory location, and the other reads or modifies the same memory location, and if at least one of the evaluations is not an atomic operation, the behavior of the program is undefined (the program has a data race) unless there exists a happens-before relationship between these two evaluations."
   ]
  },
  {
   "cell_type": "markdown",
   "id": "ccb3ce74-1865-4f47-98c5-e0ea28a26145",
   "metadata": {},
   "source": [
    "## Memory-ordering semantics"
   ]
  },
  {
   "cell_type": "markdown",
   "id": "ec811687-e32c-4425-9952-495bc819b7a5",
   "metadata": {},
   "source": [
    "Organize as lower to high cost\n",
    "\n",
    "* `relaxed`: Relax operation\n",
    "* `acquire`: A load operation with this memory order performs the acquire operation on the affected memory location\n",
    "* `release`: A store operation with this memory order performs the release operation\n",
    "* `acq_rel`: A read-modify-write operation with this memory order is both an acquire operation and a release operation\n",
    "* `seq_cst`: Sequentially consistent operation aka like a Single thread"
   ]
  },
  {
   "cell_type": "markdown",
   "id": "db5ee85d-bb79-4443-b9bc-a113ec5b38d6",
   "metadata": {},
   "source": [
    "<img src=\"img/table_memory_ordering.png\" alt=\"Table Memory Ordering\" width=\"80%\" style=\"margin: 0 auto;\">"
   ]
  },
  {
   "cell_type": "markdown",
   "id": "5547284a-4791-4548-84ab-5dd2ed275f16",
   "metadata": {},
   "source": [
    "## Release-acquire ordering"
   ]
  },
  {
   "cell_type": "markdown",
   "id": "62d97fe5-bee3-45e6-9bc1-a29108220a91",
   "metadata": {},
   "source": [
    "* Still no total ordering but some synchronization\n",
    "* Atomic stores are release operations (memory_order_release)\n",
    "* Atomic reads are acquire operations (memory_order_acquire)\n",
    "* Atomic read-modify-write operations are either acquire, release, or both\n",
    "* Synchronization is pairwise – between the thread that does the release and the thread that does the acquire\n",
    "* Use case – lock synchronization"
   ]
  },
  {
   "cell_type": "markdown",
   "id": "0fe91247-bf2a-48ba-9098-cd02afd74a54",
   "metadata": {},
   "source": [
    "<img src=\"img/rel_acq_statement.png\" alt=\"Release-Acquire Statement\" width=\"60%\" style=\"margin: 0 auto;\">"
   ]
  },
  {
   "cell_type": "markdown",
   "id": "13f64f14-f07e-4a97-bf28-1b4eb2813276",
   "metadata": {},
   "source": [
    "* Release and acquire operations must be paired up\n",
    "* The value stored by a release operation must be seen by an acquire operation for either to have any effect\n",
    "\n",
    "Once the atomic load is completed, thread B is guaranteed to see everything thread A wrote to memory"
   ]
  },
  {
   "cell_type": "markdown",
   "id": "a91ad873-5094-43a7-9746-b2106ac665fa",
   "metadata": {},
   "source": [
    "## Release Sequence"
   ]
  },
  {
   "cell_type": "markdown",
   "id": "1d958c72-ac06-443c-a386-e175a1440b07",
   "metadata": {},
   "source": [
    "After a release operation A is performed on an atomic object M, the longest continuous subsequence of the modification order of M that consists of: \n",
    "* Writes performed by the same thread that performed A [until C++20]\n",
    "* Atomic read-modify-write operations made to M by any thread\n",
    "\n",
    "is known as `release sequence` headed by A"
   ]
  },
  {
   "cell_type": "markdown",
   "id": "980aa9c5-cdfd-4189-acd4-aa39a0f52cce",
   "metadata": {},
   "source": [
    "<img src=\"img/release_sequence.png\" alt=\"Release Sequence example\" width=\"80%\" style=\"margin: 0 auto;\">"
   ]
  },
  {
   "cell_type": "markdown",
   "id": "83400606-6eed-4259-99c2-e19b3fdaa1f8",
   "metadata": {},
   "source": [
    "An atomic operation A that performs a release operation on an atomic object M synchronizes-with an atomic operation B that performs an\n",
    "acquire operation on M and takes its value from any side effect in the release sequence headed by A."
   ]
  },
  {
   "cell_type": "markdown",
   "id": "9cb03f9b-5fca-42f5-870c-b5d02cc39825",
   "metadata": {},
   "source": [
    "<img src=\"img/ordering_non_atomics.png\" alt=\"Release Sequence example\" width=\"80%\" style=\"margin: 0 auto;\">"
   ]
  }
 ],
 "metadata": {
  "kernelspec": {
   "display_name": "C++17",
   "language": "C++17",
   "name": "xcpp17"
  },
  "language_info": {
   "codemirror_mode": "text/x-c++src",
   "file_extension": ".cpp",
   "mimetype": "text/x-c++src",
   "name": "c++",
   "version": "17"
  },
  "toc-autonumbering": true,
  "toc-showcode": false,
  "toc-showmarkdowntxt": false
 },
 "nbformat": 4,
 "nbformat_minor": 5
}
